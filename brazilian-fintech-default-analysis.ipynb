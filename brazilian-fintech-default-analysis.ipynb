{
 "cells": [
  {
   "cell_type": "markdown",
   "id": "d8853a2c",
   "metadata": {
    "id": "6Jn8xFia8jah",
    "papermill": {
     "duration": 0.0555,
     "end_time": "2021-10-23T21:09:33.112763",
     "exception": false,
     "start_time": "2021-10-23T21:09:33.057263",
     "status": "completed"
    },
    "tags": []
   },
   "source": [
    "## **Brazilian Fintech's Customer Default Analysis | by [Artur Barbosa](https://www.linkedin.com/in/arturpbarbosa/)**"
   ]
  },
  {
   "cell_type": "markdown",
   "id": "ce03b239",
   "metadata": {
    "id": "A3Vf8Xk-9orq",
    "papermill": {
     "duration": 0.053174,
     "end_time": "2021-10-23T21:09:33.219138",
     "exception": false,
     "start_time": "2021-10-23T21:09:33.165964",
     "status": "completed"
    },
    "tags": []
   },
   "source": [
    "In this case, I'll analyze data I received about customers default owned by a Brazilian fintech. The column named \"default\" presents two values, which indicates defaulter(default = 1), non-defaulter(default = 0). For now, my job is trying to understand why the customer turns a defaulter based on the behavior of the other data (other columns) we have.\n"
   ]
  },
  {
   "cell_type": "markdown",
   "id": "d5937f50",
   "metadata": {
    "id": "rgwdNZhZ2bCE",
    "papermill": {
     "duration": 0.053122,
     "end_time": "2021-10-23T21:09:33.325634",
     "exception": false,
     "start_time": "2021-10-23T21:09:33.272512",
     "status": "completed"
    },
    "tags": []
   },
   "source": [
    "## **1\\. Required libs for this task**"
   ]
  },
  {
   "cell_type": "code",
   "execution_count": 1,
   "id": "5af01239",
   "metadata": {
    "execution": {
     "iopub.execute_input": "2021-10-23T21:09:33.441541Z",
     "iopub.status.busy": "2021-10-23T21:09:33.440823Z",
     "iopub.status.idle": "2021-10-23T21:09:34.422256Z",
     "shell.execute_reply": "2021-10-23T21:09:34.421505Z",
     "shell.execute_reply.started": "2021-10-23T21:06:35.410578Z"
    },
    "id": "pHbppTU93xBs",
    "papermill": {
     "duration": 1.043761,
     "end_time": "2021-10-23T21:09:34.422451",
     "exception": false,
     "start_time": "2021-10-23T21:09:33.378690",
     "status": "completed"
    },
    "tags": []
   },
   "outputs": [],
   "source": [
    "import pandas as pd\n",
    "import seaborn as sns\n",
    "import matplotlib.pyplot as plt"
   ]
  },
  {
   "cell_type": "markdown",
   "id": "711179ec",
   "metadata": {
    "id": "bTXndX-n_qBJ",
    "papermill": {
     "duration": 0.053125,
     "end_time": "2021-10-23T21:09:34.528602",
     "exception": false,
     "start_time": "2021-10-23T21:09:34.475477",
     "status": "completed"
    },
    "tags": []
   },
   "source": [
    "## **2\\. Exploration stage**"
   ]
  },
  {
   "cell_type": "markdown",
   "id": "deec1b00",
   "metadata": {
    "id": "1dpI0TXn4RhP",
    "papermill": {
     "duration": 0.053307,
     "end_time": "2021-10-23T21:09:34.696536",
     "exception": false,
     "start_time": "2021-10-23T21:09:34.643229",
     "status": "completed"
    },
    "tags": []
   },
   "source": [
    "For that, I'll also import for this notebook the archive with the data for the analysis. Which is on this [link](https://raw.githubusercontent.com/andre-marcos-perez/ebac-course-utils/develop/dataset/credito.csv). It's in CSV format, so let’s see if it has great compatibility:"
   ]
  },
  {
   "cell_type": "code",
   "execution_count": 2,
   "id": "5f5bc198",
   "metadata": {
    "execution": {
     "iopub.execute_input": "2021-10-23T21:09:34.809562Z",
     "iopub.status.busy": "2021-10-23T21:09:34.808464Z",
     "iopub.status.idle": "2021-10-23T21:09:35.491470Z",
     "shell.execute_reply": "2021-10-23T21:09:35.492042Z",
     "shell.execute_reply.started": "2021-10-23T21:06:35.416592Z"
    },
    "id": "tofIrlj36eib",
    "outputId": "6e89f512-b1ac-40d2-d9f5-118d291af1f9",
    "papermill": {
     "duration": 0.741584,
     "end_time": "2021-10-23T21:09:35.492228",
     "exception": false,
     "start_time": "2021-10-23T21:09:34.750644",
     "status": "completed"
    },
    "tags": []
   },
   "outputs": [
    {
     "data": {
      "text/html": [
       "<div>\n",
       "<style scoped>\n",
       "    .dataframe tbody tr th:only-of-type {\n",
       "        vertical-align: middle;\n",
       "    }\n",
       "\n",
       "    .dataframe tbody tr th {\n",
       "        vertical-align: top;\n",
       "    }\n",
       "\n",
       "    .dataframe thead th {\n",
       "        text-align: right;\n",
       "    }\n",
       "</style>\n",
       "<table border=\"1\" class=\"dataframe\">\n",
       "  <thead>\n",
       "    <tr style=\"text-align: right;\">\n",
       "      <th></th>\n",
       "      <th>id</th>\n",
       "      <th>default</th>\n",
       "      <th>idade</th>\n",
       "      <th>sexo</th>\n",
       "      <th>dependentes</th>\n",
       "      <th>escolaridade</th>\n",
       "      <th>estado_civil</th>\n",
       "      <th>salario_anual</th>\n",
       "      <th>tipo_cartao</th>\n",
       "      <th>meses_de_relacionamento</th>\n",
       "      <th>qtd_produtos</th>\n",
       "      <th>iteracoes_12m</th>\n",
       "      <th>meses_inativo_12m</th>\n",
       "      <th>limite_credito</th>\n",
       "      <th>valor_transacoes_12m</th>\n",
       "      <th>qtd_transacoes_12m</th>\n",
       "    </tr>\n",
       "  </thead>\n",
       "  <tbody>\n",
       "    <tr>\n",
       "      <th>0</th>\n",
       "      <td>768805383</td>\n",
       "      <td>0</td>\n",
       "      <td>45</td>\n",
       "      <td>M</td>\n",
       "      <td>3</td>\n",
       "      <td>ensino medio</td>\n",
       "      <td>casado</td>\n",
       "      <td>$60K - $80K</td>\n",
       "      <td>blue</td>\n",
       "      <td>39</td>\n",
       "      <td>5</td>\n",
       "      <td>3</td>\n",
       "      <td>1</td>\n",
       "      <td>12.691,51</td>\n",
       "      <td>1.144,90</td>\n",
       "      <td>42</td>\n",
       "    </tr>\n",
       "    <tr>\n",
       "      <th>1</th>\n",
       "      <td>818770008</td>\n",
       "      <td>0</td>\n",
       "      <td>49</td>\n",
       "      <td>F</td>\n",
       "      <td>5</td>\n",
       "      <td>mestrado</td>\n",
       "      <td>solteiro</td>\n",
       "      <td>menos que $40K</td>\n",
       "      <td>blue</td>\n",
       "      <td>44</td>\n",
       "      <td>6</td>\n",
       "      <td>2</td>\n",
       "      <td>1</td>\n",
       "      <td>8.256,96</td>\n",
       "      <td>1.291,45</td>\n",
       "      <td>33</td>\n",
       "    </tr>\n",
       "    <tr>\n",
       "      <th>2</th>\n",
       "      <td>713982108</td>\n",
       "      <td>0</td>\n",
       "      <td>51</td>\n",
       "      <td>M</td>\n",
       "      <td>3</td>\n",
       "      <td>mestrado</td>\n",
       "      <td>casado</td>\n",
       "      <td>$80K - $120K</td>\n",
       "      <td>blue</td>\n",
       "      <td>36</td>\n",
       "      <td>4</td>\n",
       "      <td>0</td>\n",
       "      <td>1</td>\n",
       "      <td>3.418,56</td>\n",
       "      <td>1.887,72</td>\n",
       "      <td>20</td>\n",
       "    </tr>\n",
       "    <tr>\n",
       "      <th>3</th>\n",
       "      <td>769911858</td>\n",
       "      <td>0</td>\n",
       "      <td>40</td>\n",
       "      <td>F</td>\n",
       "      <td>4</td>\n",
       "      <td>ensino medio</td>\n",
       "      <td>NaN</td>\n",
       "      <td>menos que $40K</td>\n",
       "      <td>blue</td>\n",
       "      <td>34</td>\n",
       "      <td>3</td>\n",
       "      <td>1</td>\n",
       "      <td>4</td>\n",
       "      <td>3.313,03</td>\n",
       "      <td>1.171,56</td>\n",
       "      <td>20</td>\n",
       "    </tr>\n",
       "    <tr>\n",
       "      <th>4</th>\n",
       "      <td>709106358</td>\n",
       "      <td>0</td>\n",
       "      <td>40</td>\n",
       "      <td>M</td>\n",
       "      <td>3</td>\n",
       "      <td>sem educacao formal</td>\n",
       "      <td>casado</td>\n",
       "      <td>$60K - $80K</td>\n",
       "      <td>blue</td>\n",
       "      <td>21</td>\n",
       "      <td>5</td>\n",
       "      <td>0</td>\n",
       "      <td>1</td>\n",
       "      <td>4.716,22</td>\n",
       "      <td>816,08</td>\n",
       "      <td>28</td>\n",
       "    </tr>\n",
       "  </tbody>\n",
       "</table>\n",
       "</div>"
      ],
      "text/plain": [
       "          id  default  idade sexo  dependentes         escolaridade  \\\n",
       "0  768805383        0     45    M            3         ensino medio   \n",
       "1  818770008        0     49    F            5             mestrado   \n",
       "2  713982108        0     51    M            3             mestrado   \n",
       "3  769911858        0     40    F            4         ensino medio   \n",
       "4  709106358        0     40    M            3  sem educacao formal   \n",
       "\n",
       "  estado_civil   salario_anual tipo_cartao  meses_de_relacionamento  \\\n",
       "0       casado     $60K - $80K        blue                       39   \n",
       "1     solteiro  menos que $40K        blue                       44   \n",
       "2       casado    $80K - $120K        blue                       36   \n",
       "3          NaN  menos que $40K        blue                       34   \n",
       "4       casado     $60K - $80K        blue                       21   \n",
       "\n",
       "   qtd_produtos  iteracoes_12m  meses_inativo_12m limite_credito  \\\n",
       "0             5              3                  1      12.691,51   \n",
       "1             6              2                  1       8.256,96   \n",
       "2             4              0                  1       3.418,56   \n",
       "3             3              1                  4       3.313,03   \n",
       "4             5              0                  1       4.716,22   \n",
       "\n",
       "  valor_transacoes_12m  qtd_transacoes_12m  \n",
       "0             1.144,90                  42  \n",
       "1             1.291,45                  33  \n",
       "2             1.887,72                  20  \n",
       "3             1.171,56                  20  \n",
       "4               816,08                  28  "
      ]
     },
     "execution_count": 2,
     "metadata": {},
     "output_type": "execute_result"
    }
   ],
   "source": [
    "df = pd.read_csv('https://raw.githubusercontent.com/andre-marcos-perez/ebac-course-utils/develop/dataset/credito.csv', na_values='na')\n",
    "df.head(n=5)"
   ]
  },
  {
   "cell_type": "markdown",
   "id": "a5a5a3b9",
   "metadata": {
    "id": "88_l2TPv8CJg",
    "papermill": {
     "duration": 0.054356,
     "end_time": "2021-10-23T21:09:35.602057",
     "exception": false,
     "start_time": "2021-10-23T21:09:35.547701",
     "status": "completed"
    },
    "tags": []
   },
   "source": [
    "Above I just used the (.head) to justify the parameter I used for na values. If you check the link, you will see that this CSV file is missing some data, and the “na” strings represent the missing data. So I informed my notebook of these strings, and it converted for NaN values.\n",
    "\n",
    "And about the content language, which is Portuguese, don't worry; all my graphics and content will be written in English to be easier to read for the majority."
   ]
  },
  {
   "cell_type": "markdown",
   "id": "67b7882b",
   "metadata": {
    "id": "z1CBzWVDYT8U",
    "papermill": {
     "duration": 0.054247,
     "end_time": "2021-10-23T21:09:35.711367",
     "exception": false,
     "start_time": "2021-10-23T21:09:35.657120",
     "status": "completed"
    },
    "tags": []
   },
   "source": [
    "Checking the size of the data and the bulk of defaulters we're analyzing:"
   ]
  },
  {
   "cell_type": "code",
   "execution_count": 3,
   "id": "fda377b1",
   "metadata": {
    "execution": {
     "iopub.execute_input": "2021-10-23T21:09:35.823303Z",
     "iopub.status.busy": "2021-10-23T21:09:35.822218Z",
     "iopub.status.idle": "2021-10-23T21:09:35.828376Z",
     "shell.execute_reply": "2021-10-23T21:09:35.829105Z",
     "shell.execute_reply.started": "2021-10-23T21:06:35.818322Z"
    },
    "id": "WMfevnoqXo2q",
    "outputId": "aea96cd2-094a-4245-974d-dbf49f35e9e8",
    "papermill": {
     "duration": 0.064041,
     "end_time": "2021-10-23T21:09:35.829298",
     "exception": false,
     "start_time": "2021-10-23T21:09:35.765257",
     "status": "completed"
    },
    "tags": []
   },
   "outputs": [
    {
     "data": {
      "text/plain": [
       "(10127, 16)"
      ]
     },
     "execution_count": 3,
     "metadata": {},
     "output_type": "execute_result"
    }
   ],
   "source": [
    "df.shape"
   ]
  },
  {
   "cell_type": "code",
   "execution_count": 4,
   "id": "55c7571d",
   "metadata": {
    "execution": {
     "iopub.execute_input": "2021-10-23T21:09:35.942124Z",
     "iopub.status.busy": "2021-10-23T21:09:35.941063Z",
     "iopub.status.idle": "2021-10-23T21:09:35.953611Z",
     "shell.execute_reply": "2021-10-23T21:09:35.954316Z",
     "shell.execute_reply.started": "2021-10-23T21:06:35.826862Z"
    },
    "id": "M_MqOjSGYOK9",
    "outputId": "7dea3fa1-9040-44d8-b712-a1d80771dfac",
    "papermill": {
     "duration": 0.070699,
     "end_time": "2021-10-23T21:09:35.954504",
     "exception": false,
     "start_time": "2021-10-23T21:09:35.883805",
     "status": "completed"
    },
    "tags": []
   },
   "outputs": [
    {
     "data": {
      "text/plain": [
       "(8500, 16)"
      ]
     },
     "execution_count": 4,
     "metadata": {},
     "output_type": "execute_result"
    }
   ],
   "source": [
    "df[df['default'] == 0].shape"
   ]
  },
  {
   "cell_type": "code",
   "execution_count": 5,
   "id": "8c92154e",
   "metadata": {
    "execution": {
     "iopub.execute_input": "2021-10-23T21:09:36.069310Z",
     "iopub.status.busy": "2021-10-23T21:09:36.068536Z",
     "iopub.status.idle": "2021-10-23T21:09:36.073084Z",
     "shell.execute_reply": "2021-10-23T21:09:36.073738Z",
     "shell.execute_reply.started": "2021-10-23T21:06:35.841257Z"
    },
    "id": "fNewMEnyYQkl",
    "outputId": "810b3246-fb89-44a1-96fd-84900407d1c1",
    "papermill": {
     "duration": 0.064851,
     "end_time": "2021-10-23T21:09:36.074010",
     "exception": false,
     "start_time": "2021-10-23T21:09:36.009159",
     "status": "completed"
    },
    "tags": []
   },
   "outputs": [
    {
     "data": {
      "text/plain": [
       "(1627, 16)"
      ]
     },
     "execution_count": 5,
     "metadata": {},
     "output_type": "execute_result"
    }
   ],
   "source": [
    "df[df['default'] == 1].shape"
   ]
  },
  {
   "cell_type": "code",
   "execution_count": 6,
   "id": "68364b8c",
   "metadata": {
    "execution": {
     "iopub.execute_input": "2021-10-23T21:09:36.192563Z",
     "iopub.status.busy": "2021-10-23T21:09:36.191799Z",
     "iopub.status.idle": "2021-10-23T21:09:36.197322Z",
     "shell.execute_reply": "2021-10-23T21:09:36.196552Z",
     "shell.execute_reply.started": "2021-10-23T21:06:35.853374Z"
    },
    "id": "UJs69pn5Z_PZ",
    "papermill": {
     "duration": 0.066274,
     "end_time": "2021-10-23T21:09:36.197485",
     "exception": false,
     "start_time": "2021-10-23T21:09:36.131211",
     "status": "completed"
    },
    "tags": []
   },
   "outputs": [],
   "source": [
    "total, _ = df.shape\n",
    "qty_non, _ = df[df['default'] == 0].shape\n",
    "qty_def, _ = df[df['default'] == 1].shape"
   ]
  },
  {
   "cell_type": "code",
   "execution_count": 7,
   "id": "c5988a1b",
   "metadata": {
    "execution": {
     "iopub.execute_input": "2021-10-23T21:09:36.316651Z",
     "iopub.status.busy": "2021-10-23T21:09:36.315416Z",
     "iopub.status.idle": "2021-10-23T21:09:36.319294Z",
     "shell.execute_reply": "2021-10-23T21:09:36.319860Z",
     "shell.execute_reply.started": "2021-10-23T21:06:35.866275Z"
    },
    "id": "8XYrNC8oYqzS",
    "outputId": "5bc815d0-6570-4676-a9b3-0fa746ef5a0a",
    "papermill": {
     "duration": 0.065711,
     "end_time": "2021-10-23T21:09:36.320120",
     "exception": false,
     "start_time": "2021-10-23T21:09:36.254409",
     "status": "completed"
    },
    "tags": []
   },
   "outputs": [
    {
     "name": "stdout",
     "output_type": "stream",
     "text": [
      "The non-defaulters percentage is 83.93%\n",
      "The defeaulters percentage is 16.07%\n"
     ]
    }
   ],
   "source": [
    "print(f\"The non-defaulters percentage is {round(100 * qty_non / total, 2)}%\")\n",
    "print(f\"The defeaulters percentage is {round(100 * qty_def / total, 2)}%\")"
   ]
  },
  {
   "cell_type": "markdown",
   "id": "a4885b1e",
   "metadata": {
    "id": "9iQigkQMan4r",
    "papermill": {
     "duration": 0.05561,
     "end_time": "2021-10-23T21:09:36.431843",
     "exception": false,
     "start_time": "2021-10-23T21:09:36.376233",
     "status": "completed"
    },
    "tags": []
   },
   "source": [
    "So, the code speaks for its selves; We have less than 20% of customers defaulting, which maybe can hamper the graphics comprehension"
   ]
  },
  {
   "cell_type": "code",
   "execution_count": 8,
   "id": "c340dbf2",
   "metadata": {
    "execution": {
     "iopub.execute_input": "2021-10-23T21:09:36.562734Z",
     "iopub.status.busy": "2021-10-23T21:09:36.561624Z",
     "iopub.status.idle": "2021-10-23T21:09:36.565591Z",
     "shell.execute_reply": "2021-10-23T21:09:36.566208Z",
     "shell.execute_reply.started": "2021-10-23T21:06:35.875553Z"
    },
    "id": "9-VGV4JIcq7f",
    "outputId": "9540527a-6bb4-4ee1-e3ad-d6c5cd1b6db8",
    "papermill": {
     "duration": 0.07887,
     "end_time": "2021-10-23T21:09:36.566402",
     "exception": false,
     "start_time": "2021-10-23T21:09:36.487532",
     "status": "completed"
    },
    "tags": []
   },
   "outputs": [
    {
     "data": {
      "text/html": [
       "<div>\n",
       "<style scoped>\n",
       "    .dataframe tbody tr th:only-of-type {\n",
       "        vertical-align: middle;\n",
       "    }\n",
       "\n",
       "    .dataframe tbody tr th {\n",
       "        vertical-align: top;\n",
       "    }\n",
       "\n",
       "    .dataframe thead th {\n",
       "        text-align: right;\n",
       "    }\n",
       "</style>\n",
       "<table border=\"1\" class=\"dataframe\">\n",
       "  <thead>\n",
       "    <tr style=\"text-align: right;\">\n",
       "      <th></th>\n",
       "      <th>id</th>\n",
       "      <th>default</th>\n",
       "      <th>idade</th>\n",
       "      <th>sexo</th>\n",
       "      <th>dependentes</th>\n",
       "      <th>escolaridade</th>\n",
       "      <th>estado_civil</th>\n",
       "      <th>salario_anual</th>\n",
       "      <th>tipo_cartao</th>\n",
       "      <th>meses_de_relacionamento</th>\n",
       "      <th>qtd_produtos</th>\n",
       "      <th>iteracoes_12m</th>\n",
       "      <th>meses_inativo_12m</th>\n",
       "      <th>limite_credito</th>\n",
       "      <th>valor_transacoes_12m</th>\n",
       "      <th>qtd_transacoes_12m</th>\n",
       "    </tr>\n",
       "  </thead>\n",
       "  <tbody>\n",
       "    <tr>\n",
       "      <th>0</th>\n",
       "      <td>768805383</td>\n",
       "      <td>0</td>\n",
       "      <td>45</td>\n",
       "      <td>M</td>\n",
       "      <td>3</td>\n",
       "      <td>ensino medio</td>\n",
       "      <td>casado</td>\n",
       "      <td>$60K - $80K</td>\n",
       "      <td>blue</td>\n",
       "      <td>39</td>\n",
       "      <td>5</td>\n",
       "      <td>3</td>\n",
       "      <td>1</td>\n",
       "      <td>12.691,51</td>\n",
       "      <td>1.144,90</td>\n",
       "      <td>42</td>\n",
       "    </tr>\n",
       "    <tr>\n",
       "      <th>1</th>\n",
       "      <td>818770008</td>\n",
       "      <td>0</td>\n",
       "      <td>49</td>\n",
       "      <td>F</td>\n",
       "      <td>5</td>\n",
       "      <td>mestrado</td>\n",
       "      <td>solteiro</td>\n",
       "      <td>menos que $40K</td>\n",
       "      <td>blue</td>\n",
       "      <td>44</td>\n",
       "      <td>6</td>\n",
       "      <td>2</td>\n",
       "      <td>1</td>\n",
       "      <td>8.256,96</td>\n",
       "      <td>1.291,45</td>\n",
       "      <td>33</td>\n",
       "    </tr>\n",
       "    <tr>\n",
       "      <th>2</th>\n",
       "      <td>713982108</td>\n",
       "      <td>0</td>\n",
       "      <td>51</td>\n",
       "      <td>M</td>\n",
       "      <td>3</td>\n",
       "      <td>mestrado</td>\n",
       "      <td>casado</td>\n",
       "      <td>$80K - $120K</td>\n",
       "      <td>blue</td>\n",
       "      <td>36</td>\n",
       "      <td>4</td>\n",
       "      <td>0</td>\n",
       "      <td>1</td>\n",
       "      <td>3.418,56</td>\n",
       "      <td>1.887,72</td>\n",
       "      <td>20</td>\n",
       "    </tr>\n",
       "    <tr>\n",
       "      <th>3</th>\n",
       "      <td>769911858</td>\n",
       "      <td>0</td>\n",
       "      <td>40</td>\n",
       "      <td>F</td>\n",
       "      <td>4</td>\n",
       "      <td>ensino medio</td>\n",
       "      <td>NaN</td>\n",
       "      <td>menos que $40K</td>\n",
       "      <td>blue</td>\n",
       "      <td>34</td>\n",
       "      <td>3</td>\n",
       "      <td>1</td>\n",
       "      <td>4</td>\n",
       "      <td>3.313,03</td>\n",
       "      <td>1.171,56</td>\n",
       "      <td>20</td>\n",
       "    </tr>\n",
       "    <tr>\n",
       "      <th>4</th>\n",
       "      <td>709106358</td>\n",
       "      <td>0</td>\n",
       "      <td>40</td>\n",
       "      <td>M</td>\n",
       "      <td>3</td>\n",
       "      <td>sem educacao formal</td>\n",
       "      <td>casado</td>\n",
       "      <td>$60K - $80K</td>\n",
       "      <td>blue</td>\n",
       "      <td>21</td>\n",
       "      <td>5</td>\n",
       "      <td>0</td>\n",
       "      <td>1</td>\n",
       "      <td>4.716,22</td>\n",
       "      <td>816,08</td>\n",
       "      <td>28</td>\n",
       "    </tr>\n",
       "  </tbody>\n",
       "</table>\n",
       "</div>"
      ],
      "text/plain": [
       "          id  default  idade sexo  dependentes         escolaridade  \\\n",
       "0  768805383        0     45    M            3         ensino medio   \n",
       "1  818770008        0     49    F            5             mestrado   \n",
       "2  713982108        0     51    M            3             mestrado   \n",
       "3  769911858        0     40    F            4         ensino medio   \n",
       "4  709106358        0     40    M            3  sem educacao formal   \n",
       "\n",
       "  estado_civil   salario_anual tipo_cartao  meses_de_relacionamento  \\\n",
       "0       casado     $60K - $80K        blue                       39   \n",
       "1     solteiro  menos que $40K        blue                       44   \n",
       "2       casado    $80K - $120K        blue                       36   \n",
       "3          NaN  menos que $40K        blue                       34   \n",
       "4       casado     $60K - $80K        blue                       21   \n",
       "\n",
       "   qtd_produtos  iteracoes_12m  meses_inativo_12m limite_credito  \\\n",
       "0             5              3                  1      12.691,51   \n",
       "1             6              2                  1       8.256,96   \n",
       "2             4              0                  1       3.418,56   \n",
       "3             3              1                  4       3.313,03   \n",
       "4             5              0                  1       4.716,22   \n",
       "\n",
       "  valor_transacoes_12m  qtd_transacoes_12m  \n",
       "0             1.144,90                  42  \n",
       "1             1.291,45                  33  \n",
       "2             1.887,72                  20  \n",
       "3             1.171,56                  20  \n",
       "4               816,08                  28  "
      ]
     },
     "execution_count": 8,
     "metadata": {},
     "output_type": "execute_result"
    }
   ],
   "source": [
    "df.head(n=5)"
   ]
  },
  {
   "cell_type": "code",
   "execution_count": 9,
   "id": "08a93423",
   "metadata": {
    "execution": {
     "iopub.execute_input": "2021-10-23T21:09:36.687178Z",
     "iopub.status.busy": "2021-10-23T21:09:36.686460Z",
     "iopub.status.idle": "2021-10-23T21:09:36.690522Z",
     "shell.execute_reply": "2021-10-23T21:09:36.689906Z",
     "shell.execute_reply.started": "2021-10-23T21:06:35.899345Z"
    },
    "id": "0HHRCw6jc-bS",
    "outputId": "62ce5739-03a7-4629-e329-1c26257c504d",
    "papermill": {
     "duration": 0.067276,
     "end_time": "2021-10-23T21:09:36.690675",
     "exception": false,
     "start_time": "2021-10-23T21:09:36.623399",
     "status": "completed"
    },
    "tags": []
   },
   "outputs": [
    {
     "data": {
      "text/plain": [
       "id                          int64\n",
       "default                     int64\n",
       "idade                       int64\n",
       "sexo                       object\n",
       "dependentes                 int64\n",
       "escolaridade               object\n",
       "estado_civil               object\n",
       "salario_anual              object\n",
       "tipo_cartao                object\n",
       "meses_de_relacionamento     int64\n",
       "qtd_produtos                int64\n",
       "iteracoes_12m               int64\n",
       "meses_inativo_12m           int64\n",
       "limite_credito             object\n",
       "valor_transacoes_12m       object\n",
       "qtd_transacoes_12m          int64\n",
       "dtype: object"
      ]
     },
     "execution_count": 9,
     "metadata": {},
     "output_type": "execute_result"
    }
   ],
   "source": [
    "df.dtypes"
   ]
  },
  {
   "cell_type": "markdown",
   "id": "166dda1a",
   "metadata": {
    "id": "8mjdHF13gvZn",
    "papermill": {
     "duration": 0.056984,
     "end_time": "2021-10-23T21:09:36.804814",
     "exception": false,
     "start_time": "2021-10-23T21:09:36.747830",
     "status": "completed"
    },
    "tags": []
   },
   "source": [
    "### **2.1 Categorical Attributes**"
   ]
  },
  {
   "cell_type": "markdown",
   "id": "0251b94f",
   "metadata": {
    "id": "Biw4vaWvq53q",
    "papermill": {
     "duration": 0.05692,
     "end_time": "2021-10-23T21:09:36.920562",
     "exception": false,
     "start_time": "2021-10-23T21:09:36.863642",
     "status": "completed"
    },
    "tags": []
   },
   "source": [
    "Excluding sex because it's not relevant, and maybe not allowed by Brazilian law named LGPD:"
   ]
  },
  {
   "cell_type": "code",
   "execution_count": 10,
   "id": "33a3394f",
   "metadata": {
    "execution": {
     "iopub.execute_input": "2021-10-23T21:09:37.043250Z",
     "iopub.status.busy": "2021-10-23T21:09:37.042479Z",
     "iopub.status.idle": "2021-10-23T21:09:37.089868Z",
     "shell.execute_reply": "2021-10-23T21:09:37.089076Z",
     "shell.execute_reply.started": "2021-10-23T21:06:35.915491Z"
    },
    "id": "jISFEX4Wgo1S",
    "outputId": "fb050304-6ddc-434f-cd73-1227be7d6e5f",
    "papermill": {
     "duration": 0.112394,
     "end_time": "2021-10-23T21:09:37.090061",
     "exception": false,
     "start_time": "2021-10-23T21:09:36.977667",
     "status": "completed"
    },
    "tags": []
   },
   "outputs": [
    {
     "data": {
      "text/html": [
       "<div>\n",
       "<style scoped>\n",
       "    .dataframe tbody tr th:only-of-type {\n",
       "        vertical-align: middle;\n",
       "    }\n",
       "\n",
       "    .dataframe tbody tr th {\n",
       "        vertical-align: top;\n",
       "    }\n",
       "\n",
       "    .dataframe thead th {\n",
       "        text-align: right;\n",
       "    }\n",
       "</style>\n",
       "<table border=\"1\" class=\"dataframe\">\n",
       "  <thead>\n",
       "    <tr style=\"text-align: right;\">\n",
       "      <th></th>\n",
       "      <th>count</th>\n",
       "      <th>unique</th>\n",
       "      <th>top</th>\n",
       "      <th>freq</th>\n",
       "    </tr>\n",
       "  </thead>\n",
       "  <tbody>\n",
       "    <tr>\n",
       "      <th>escolaridade</th>\n",
       "      <td>8608</td>\n",
       "      <td>5</td>\n",
       "      <td>mestrado</td>\n",
       "      <td>3128</td>\n",
       "    </tr>\n",
       "    <tr>\n",
       "      <th>estado_civil</th>\n",
       "      <td>9378</td>\n",
       "      <td>3</td>\n",
       "      <td>casado</td>\n",
       "      <td>4687</td>\n",
       "    </tr>\n",
       "    <tr>\n",
       "      <th>salario_anual</th>\n",
       "      <td>9015</td>\n",
       "      <td>5</td>\n",
       "      <td>menos que $40K</td>\n",
       "      <td>3561</td>\n",
       "    </tr>\n",
       "    <tr>\n",
       "      <th>tipo_cartao</th>\n",
       "      <td>10127</td>\n",
       "      <td>4</td>\n",
       "      <td>blue</td>\n",
       "      <td>9436</td>\n",
       "    </tr>\n",
       "    <tr>\n",
       "      <th>limite_credito</th>\n",
       "      <td>10127</td>\n",
       "      <td>9272</td>\n",
       "      <td>1.438,21</td>\n",
       "      <td>11</td>\n",
       "    </tr>\n",
       "    <tr>\n",
       "      <th>valor_transacoes_12m</th>\n",
       "      <td>10127</td>\n",
       "      <td>10035</td>\n",
       "      <td>3.851,51</td>\n",
       "      <td>3</td>\n",
       "    </tr>\n",
       "  </tbody>\n",
       "</table>\n",
       "</div>"
      ],
      "text/plain": [
       "                      count unique             top  freq\n",
       "escolaridade           8608      5        mestrado  3128\n",
       "estado_civil           9378      3          casado  4687\n",
       "salario_anual          9015      5  menos que $40K  3561\n",
       "tipo_cartao           10127      4            blue  9436\n",
       "limite_credito        10127   9272        1.438,21    11\n",
       "valor_transacoes_12m  10127  10035        3.851,51     3"
      ]
     },
     "execution_count": 10,
     "metadata": {},
     "output_type": "execute_result"
    }
   ],
   "source": [
    "df.drop('sexo', axis=1).select_dtypes('object').describe().transpose()"
   ]
  },
  {
   "cell_type": "markdown",
   "id": "b1b6eb8f",
   "metadata": {
    "id": "7w7Tlo7qg65_",
    "papermill": {
     "duration": 0.057467,
     "end_time": "2021-10-23T21:09:37.207629",
     "exception": false,
     "start_time": "2021-10-23T21:09:37.150162",
     "status": "completed"
    },
    "tags": []
   },
   "source": [
    "### **2.2 Numerical Attributes**"
   ]
  },
  {
   "cell_type": "markdown",
   "id": "a05d89be",
   "metadata": {
    "id": "u4XktKAGrQeg",
    "papermill": {
     "duration": 0.058101,
     "end_time": "2021-10-23T21:09:37.323838",
     "exception": false,
     "start_time": "2021-10-23T21:09:37.265737",
     "status": "completed"
    },
    "tags": []
   },
   "source": [
    "Excluding ID because it's not relevant:"
   ]
  },
  {
   "cell_type": "code",
   "execution_count": 11,
   "id": "714b8417",
   "metadata": {
    "execution": {
     "iopub.execute_input": "2021-10-23T21:09:37.454034Z",
     "iopub.status.busy": "2021-10-23T21:09:37.453189Z",
     "iopub.status.idle": "2021-10-23T21:09:37.494661Z",
     "shell.execute_reply": "2021-10-23T21:09:37.493934Z",
     "shell.execute_reply.started": "2021-10-23T21:06:35.956585Z"
    },
    "id": "8dlJ3qkrguEC",
    "outputId": "326bb32c-d742-4bb7-e1c8-43f52fb3b3c4",
    "papermill": {
     "duration": 0.11241,
     "end_time": "2021-10-23T21:09:37.494816",
     "exception": false,
     "start_time": "2021-10-23T21:09:37.382406",
     "status": "completed"
    },
    "tags": []
   },
   "outputs": [
    {
     "data": {
      "text/html": [
       "<div>\n",
       "<style scoped>\n",
       "    .dataframe tbody tr th:only-of-type {\n",
       "        vertical-align: middle;\n",
       "    }\n",
       "\n",
       "    .dataframe tbody tr th {\n",
       "        vertical-align: top;\n",
       "    }\n",
       "\n",
       "    .dataframe thead th {\n",
       "        text-align: right;\n",
       "    }\n",
       "</style>\n",
       "<table border=\"1\" class=\"dataframe\">\n",
       "  <thead>\n",
       "    <tr style=\"text-align: right;\">\n",
       "      <th></th>\n",
       "      <th>count</th>\n",
       "      <th>mean</th>\n",
       "      <th>std</th>\n",
       "      <th>min</th>\n",
       "      <th>25%</th>\n",
       "      <th>50%</th>\n",
       "      <th>75%</th>\n",
       "      <th>max</th>\n",
       "    </tr>\n",
       "  </thead>\n",
       "  <tbody>\n",
       "    <tr>\n",
       "      <th>default</th>\n",
       "      <td>10127.0</td>\n",
       "      <td>0.160660</td>\n",
       "      <td>0.367235</td>\n",
       "      <td>0.0</td>\n",
       "      <td>0.0</td>\n",
       "      <td>0.0</td>\n",
       "      <td>0.0</td>\n",
       "      <td>1.0</td>\n",
       "    </tr>\n",
       "    <tr>\n",
       "      <th>idade</th>\n",
       "      <td>10127.0</td>\n",
       "      <td>46.325960</td>\n",
       "      <td>8.016814</td>\n",
       "      <td>26.0</td>\n",
       "      <td>41.0</td>\n",
       "      <td>46.0</td>\n",
       "      <td>52.0</td>\n",
       "      <td>73.0</td>\n",
       "    </tr>\n",
       "    <tr>\n",
       "      <th>dependentes</th>\n",
       "      <td>10127.0</td>\n",
       "      <td>2.346203</td>\n",
       "      <td>1.298908</td>\n",
       "      <td>0.0</td>\n",
       "      <td>1.0</td>\n",
       "      <td>2.0</td>\n",
       "      <td>3.0</td>\n",
       "      <td>5.0</td>\n",
       "    </tr>\n",
       "    <tr>\n",
       "      <th>meses_de_relacionamento</th>\n",
       "      <td>10127.0</td>\n",
       "      <td>35.928409</td>\n",
       "      <td>7.986416</td>\n",
       "      <td>13.0</td>\n",
       "      <td>31.0</td>\n",
       "      <td>36.0</td>\n",
       "      <td>40.0</td>\n",
       "      <td>56.0</td>\n",
       "    </tr>\n",
       "    <tr>\n",
       "      <th>qtd_produtos</th>\n",
       "      <td>10127.0</td>\n",
       "      <td>3.812580</td>\n",
       "      <td>1.554408</td>\n",
       "      <td>1.0</td>\n",
       "      <td>3.0</td>\n",
       "      <td>4.0</td>\n",
       "      <td>5.0</td>\n",
       "      <td>6.0</td>\n",
       "    </tr>\n",
       "    <tr>\n",
       "      <th>iteracoes_12m</th>\n",
       "      <td>10127.0</td>\n",
       "      <td>2.455317</td>\n",
       "      <td>1.106225</td>\n",
       "      <td>0.0</td>\n",
       "      <td>2.0</td>\n",
       "      <td>2.0</td>\n",
       "      <td>3.0</td>\n",
       "      <td>6.0</td>\n",
       "    </tr>\n",
       "    <tr>\n",
       "      <th>meses_inativo_12m</th>\n",
       "      <td>10127.0</td>\n",
       "      <td>2.341167</td>\n",
       "      <td>1.010622</td>\n",
       "      <td>0.0</td>\n",
       "      <td>2.0</td>\n",
       "      <td>2.0</td>\n",
       "      <td>3.0</td>\n",
       "      <td>6.0</td>\n",
       "    </tr>\n",
       "    <tr>\n",
       "      <th>qtd_transacoes_12m</th>\n",
       "      <td>10127.0</td>\n",
       "      <td>64.858695</td>\n",
       "      <td>23.472570</td>\n",
       "      <td>10.0</td>\n",
       "      <td>45.0</td>\n",
       "      <td>67.0</td>\n",
       "      <td>81.0</td>\n",
       "      <td>139.0</td>\n",
       "    </tr>\n",
       "  </tbody>\n",
       "</table>\n",
       "</div>"
      ],
      "text/plain": [
       "                           count       mean        std   min   25%   50%  \\\n",
       "default                  10127.0   0.160660   0.367235   0.0   0.0   0.0   \n",
       "idade                    10127.0  46.325960   8.016814  26.0  41.0  46.0   \n",
       "dependentes              10127.0   2.346203   1.298908   0.0   1.0   2.0   \n",
       "meses_de_relacionamento  10127.0  35.928409   7.986416  13.0  31.0  36.0   \n",
       "qtd_produtos             10127.0   3.812580   1.554408   1.0   3.0   4.0   \n",
       "iteracoes_12m            10127.0   2.455317   1.106225   0.0   2.0   2.0   \n",
       "meses_inativo_12m        10127.0   2.341167   1.010622   0.0   2.0   2.0   \n",
       "qtd_transacoes_12m       10127.0  64.858695  23.472570  10.0  45.0  67.0   \n",
       "\n",
       "                          75%    max  \n",
       "default                   0.0    1.0  \n",
       "idade                    52.0   73.0  \n",
       "dependentes               3.0    5.0  \n",
       "meses_de_relacionamento  40.0   56.0  \n",
       "qtd_produtos              5.0    6.0  \n",
       "iteracoes_12m             3.0    6.0  \n",
       "meses_inativo_12m         3.0    6.0  \n",
       "qtd_transacoes_12m       81.0  139.0  "
      ]
     },
     "execution_count": 11,
     "metadata": {},
     "output_type": "execute_result"
    }
   ],
   "source": [
    "df.drop('id', axis=1).select_dtypes('number').describe().transpose()"
   ]
  },
  {
   "cell_type": "markdown",
   "id": "b4184cc3",
   "metadata": {
    "id": "wbWQX5I-reoR",
    "papermill": {
     "duration": 0.057867,
     "end_time": "2021-10-23T21:09:37.611494",
     "exception": false,
     "start_time": "2021-10-23T21:09:37.553627",
     "status": "completed"
    },
    "tags": []
   },
   "source": [
    "### **2.3 Looking at variables classes**"
   ]
  },
  {
   "cell_type": "markdown",
   "id": "9adc555a",
   "metadata": {
    "id": "uYJ5T_H3dmHd",
    "papermill": {
     "duration": 0.059429,
     "end_time": "2021-10-23T21:09:37.729694",
     "exception": false,
     "start_time": "2021-10-23T21:09:37.670265",
     "status": "completed"
    },
    "tags": []
   },
   "source": [
    "Taking a second look at the variables of the data, we can check on the columns \"limite_credito\" and \"valor_transacoes_12m\" a little mistake to solve. It's being read as 'object', not 'float' due to the Brazilian way of punctuation in values which involves thousands."
   ]
  },
  {
   "cell_type": "code",
   "execution_count": 12,
   "id": "8e866592",
   "metadata": {
    "execution": {
     "iopub.execute_input": "2021-10-23T21:09:37.857887Z",
     "iopub.status.busy": "2021-10-23T21:09:37.857175Z",
     "iopub.status.idle": "2021-10-23T21:09:37.865346Z",
     "shell.execute_reply": "2021-10-23T21:09:37.864627Z",
     "shell.execute_reply.started": "2021-10-23T21:06:35.998097Z"
    },
    "id": "ngXMD38igX32",
    "outputId": "b81960b3-fb62-47b0-a2c5-becac69fed64",
    "papermill": {
     "duration": 0.077047,
     "end_time": "2021-10-23T21:09:37.865531",
     "exception": false,
     "start_time": "2021-10-23T21:09:37.788484",
     "status": "completed"
    },
    "tags": []
   },
   "outputs": [
    {
     "data": {
      "text/plain": [
       "id                         False\n",
       "default                    False\n",
       "idade                      False\n",
       "sexo                       False\n",
       "dependentes                False\n",
       "escolaridade                True\n",
       "estado_civil                True\n",
       "salario_anual               True\n",
       "tipo_cartao                False\n",
       "meses_de_relacionamento    False\n",
       "qtd_produtos               False\n",
       "iteracoes_12m              False\n",
       "meses_inativo_12m          False\n",
       "limite_credito             False\n",
       "valor_transacoes_12m       False\n",
       "qtd_transacoes_12m         False\n",
       "dtype: bool"
      ]
     },
     "execution_count": 12,
     "metadata": {},
     "output_type": "execute_result"
    }
   ],
   "source": [
    "df.isna().any()"
   ]
  },
  {
   "cell_type": "markdown",
   "id": "1e25435a",
   "metadata": {
    "id": "uLAlQCfareuq",
    "papermill": {
     "duration": 0.057528,
     "end_time": "2021-10-23T21:09:37.981549",
     "exception": false,
     "start_time": "2021-10-23T21:09:37.924021",
     "status": "completed"
    },
    "tags": []
   },
   "source": [
    "Above I'm just confirming if it is just those three columns that are missing data. Below let's check if the missing data has something with default behavior:"
   ]
  },
  {
   "cell_type": "code",
   "execution_count": 13,
   "id": "db646370",
   "metadata": {
    "execution": {
     "iopub.execute_input": "2021-10-23T21:09:38.105298Z",
     "iopub.status.busy": "2021-10-23T21:09:38.104549Z",
     "iopub.status.idle": "2021-10-23T21:09:38.107598Z",
     "shell.execute_reply": "2021-10-23T21:09:38.106888Z",
     "shell.execute_reply.started": "2021-10-23T21:06:36.012645Z"
    },
    "id": "05-aFEofr-Pz",
    "papermill": {
     "duration": 0.067928,
     "end_time": "2021-10-23T21:09:38.107774",
     "exception": false,
     "start_time": "2021-10-23T21:09:38.039846",
     "status": "completed"
    },
    "tags": []
   },
   "outputs": [],
   "source": [
    "def stats_missing_data(df: pd.DataFrame):\n",
    "\n",
    "  stats_missing_data = []\n",
    "  for col in df.columns:\n",
    "    if df[col].isna().any():\n",
    "      qty, _ = df[df[col].isna()].shape\n",
    "      total, _ = df.shape\n",
    "      dict_missing_data = {col: {'quantity': qty, \"percentage\": round(100 * qty/total, 2)}}\n",
    "      stats_missing_data.append(dict_missing_data)\n",
    "\n",
    "  for stat in stats_missing_data:\n",
    "    print(stat)"
   ]
  },
  {
   "cell_type": "code",
   "execution_count": 14,
   "id": "84f6933a",
   "metadata": {
    "execution": {
     "iopub.execute_input": "2021-10-23T21:09:38.233035Z",
     "iopub.status.busy": "2021-10-23T21:09:38.232310Z",
     "iopub.status.idle": "2021-10-23T21:09:38.250901Z",
     "shell.execute_reply": "2021-10-23T21:09:38.250331Z",
     "shell.execute_reply.started": "2021-10-23T21:06:36.021977Z"
    },
    "id": "1D0APfIHs3Re",
    "outputId": "f652c24f-3a4d-4f40-9ef3-690a79adaec9",
    "papermill": {
     "duration": 0.083784,
     "end_time": "2021-10-23T21:09:38.251117",
     "exception": false,
     "start_time": "2021-10-23T21:09:38.167333",
     "status": "completed"
    },
    "tags": []
   },
   "outputs": [
    {
     "name": "stdout",
     "output_type": "stream",
     "text": [
      "{'escolaridade': {'quantity': 1519, 'percentage': 15.0}}\n",
      "{'estado_civil': {'quantity': 749, 'percentage': 7.4}}\n",
      "{'salario_anual': {'quantity': 1112, 'percentage': 10.98}}\n"
     ]
    }
   ],
   "source": [
    "stats_missing_data(df=df)"
   ]
  },
  {
   "cell_type": "code",
   "execution_count": 15,
   "id": "de48b13a",
   "metadata": {
    "execution": {
     "iopub.execute_input": "2021-10-23T21:09:38.376725Z",
     "iopub.status.busy": "2021-10-23T21:09:38.375498Z",
     "iopub.status.idle": "2021-10-23T21:09:38.395480Z",
     "shell.execute_reply": "2021-10-23T21:09:38.396200Z",
     "shell.execute_reply.started": "2021-10-23T21:06:36.048805Z"
    },
    "id": "hINubWAVs9Ro",
    "outputId": "21bf0c3c-117e-4cac-c66c-21571555ee5a",
    "papermill": {
     "duration": 0.085716,
     "end_time": "2021-10-23T21:09:38.396395",
     "exception": false,
     "start_time": "2021-10-23T21:09:38.310679",
     "status": "completed"
    },
    "tags": []
   },
   "outputs": [
    {
     "name": "stdout",
     "output_type": "stream",
     "text": [
      "{'escolaridade': {'quantity': 1263, 'percentage': 14.86}}\n",
      "{'estado_civil': {'quantity': 620, 'percentage': 7.29}}\n",
      "{'salario_anual': {'quantity': 925, 'percentage': 10.88}}\n"
     ]
    }
   ],
   "source": [
    "stats_missing_data(df=df[df['default'] == 0])"
   ]
  },
  {
   "cell_type": "code",
   "execution_count": 16,
   "id": "e621a77a",
   "metadata": {
    "execution": {
     "iopub.execute_input": "2021-10-23T21:09:38.521574Z",
     "iopub.status.busy": "2021-10-23T21:09:38.520819Z",
     "iopub.status.idle": "2021-10-23T21:09:38.534628Z",
     "shell.execute_reply": "2021-10-23T21:09:38.535288Z",
     "shell.execute_reply.started": "2021-10-23T21:06:36.070389Z"
    },
    "id": "a6HDdpPytG9L",
    "outputId": "89c1ea16-735b-447a-f0eb-5e7ba884a8dc",
    "papermill": {
     "duration": 0.077588,
     "end_time": "2021-10-23T21:09:38.535480",
     "exception": false,
     "start_time": "2021-10-23T21:09:38.457892",
     "status": "completed"
    },
    "tags": []
   },
   "outputs": [
    {
     "name": "stdout",
     "output_type": "stream",
     "text": [
      "{'escolaridade': {'quantity': 256, 'percentage': 15.73}}\n",
      "{'estado_civil': {'quantity': 129, 'percentage': 7.93}}\n",
      "{'salario_anual': {'quantity': 187, 'percentage': 11.49}}\n"
     ]
    }
   ],
   "source": [
    "stats_missing_data(df=df[df['default'] == 1])"
   ]
  },
  {
   "cell_type": "markdown",
   "id": "a3ca1fc4",
   "metadata": {
    "id": "132f4QUmuhD-",
    "papermill": {
     "duration": 0.059026,
     "end_time": "2021-10-23T21:09:38.653795",
     "exception": false,
     "start_time": "2021-10-23T21:09:38.594769",
     "status": "completed"
    },
    "tags": []
   },
   "source": [
    "Well, apparently not... "
   ]
  },
  {
   "cell_type": "markdown",
   "id": "1d7dabfb",
   "metadata": {
    "id": "bn61pos_8-F8",
    "papermill": {
     "duration": 0.058937,
     "end_time": "2021-10-23T21:09:38.772216",
     "exception": false,
     "start_time": "2021-10-23T21:09:38.713279",
     "status": "completed"
    },
    "tags": []
   },
   "source": [
    "## **3\\. Data Cleaning and Conversion Stage**"
   ]
  },
  {
   "cell_type": "markdown",
   "id": "4c09d870",
   "metadata": {
    "id": "x3ScqivQ99VY",
    "papermill": {
     "duration": 0.058947,
     "end_time": "2021-10-23T21:09:38.890541",
     "exception": false,
     "start_time": "2021-10-23T21:09:38.831594",
     "status": "completed"
    },
    "tags": []
   },
   "source": [
    "So, let's convert those two variables, which are 'objects', but I'll need them in 'float'. For that, I'll use a lambda function:"
   ]
  },
  {
   "cell_type": "code",
   "execution_count": 17,
   "id": "98a855dd",
   "metadata": {
    "execution": {
     "iopub.execute_input": "2021-10-23T21:09:39.013425Z",
     "iopub.status.busy": "2021-10-23T21:09:39.012641Z",
     "iopub.status.idle": "2021-10-23T21:09:39.038902Z",
     "shell.execute_reply": "2021-10-23T21:09:39.039513Z",
     "shell.execute_reply.started": "2021-10-23T21:06:36.082763Z"
    },
    "id": "QzFaD3RXuikP",
    "papermill": {
     "duration": 0.089393,
     "end_time": "2021-10-23T21:09:39.039709",
     "exception": false,
     "start_time": "2021-10-23T21:09:38.950316",
     "status": "completed"
    },
    "tags": []
   },
   "outputs": [],
   "source": [
    "fn = lambda value: float(value.replace(\".\", \"\").replace(\",\", \".\"))\n",
    "df['valor_transacoes_12m'] = df['valor_transacoes_12m'].apply(fn)\n",
    "df['limite_credito'] = df['limite_credito'].apply(fn)"
   ]
  },
  {
   "cell_type": "markdown",
   "id": "982a13a4",
   "metadata": {
    "id": "fxZHs_TD5KF_",
    "papermill": {
     "duration": 0.059223,
     "end_time": "2021-10-23T21:09:39.158140",
     "exception": false,
     "start_time": "2021-10-23T21:09:39.098917",
     "status": "completed"
    },
    "tags": []
   },
   "source": [
    "It's done:"
   ]
  },
  {
   "cell_type": "code",
   "execution_count": 18,
   "id": "204c1423",
   "metadata": {
    "execution": {
     "iopub.execute_input": "2021-10-23T21:09:39.281556Z",
     "iopub.status.busy": "2021-10-23T21:09:39.280773Z",
     "iopub.status.idle": "2021-10-23T21:09:39.288701Z",
     "shell.execute_reply": "2021-10-23T21:09:39.288126Z",
     "shell.execute_reply.started": "2021-10-23T21:06:36.104650Z"
    },
    "id": "GiaaqU_Rw0oi",
    "outputId": "53a9cf42-9b77-4676-fd4a-c274794a6c0b",
    "papermill": {
     "duration": 0.070828,
     "end_time": "2021-10-23T21:09:39.288859",
     "exception": false,
     "start_time": "2021-10-23T21:09:39.218031",
     "status": "completed"
    },
    "tags": []
   },
   "outputs": [
    {
     "data": {
      "text/plain": [
       "id                           int64\n",
       "default                      int64\n",
       "idade                        int64\n",
       "sexo                        object\n",
       "dependentes                  int64\n",
       "escolaridade                object\n",
       "estado_civil                object\n",
       "salario_anual               object\n",
       "tipo_cartao                 object\n",
       "meses_de_relacionamento      int64\n",
       "qtd_produtos                 int64\n",
       "iteracoes_12m                int64\n",
       "meses_inativo_12m            int64\n",
       "limite_credito             float64\n",
       "valor_transacoes_12m       float64\n",
       "qtd_transacoes_12m           int64\n",
       "dtype: object"
      ]
     },
     "execution_count": 18,
     "metadata": {},
     "output_type": "execute_result"
    }
   ],
   "source": [
    "df.dtypes"
   ]
  },
  {
   "cell_type": "markdown",
   "id": "f739c1e3",
   "metadata": {
    "id": "RIrdbsk45xkY",
    "papermill": {
     "duration": 0.061846,
     "end_time": "2021-10-23T21:09:39.410798",
     "exception": false,
     "start_time": "2021-10-23T21:09:39.348952",
     "status": "completed"
    },
    "tags": []
   },
   "source": [
    "Just checking again if \"limite_credito\" and \"valor_transacoes_12m\" will be on numerical attributes:"
   ]
  },
  {
   "cell_type": "code",
   "execution_count": 19,
   "id": "55e51a92",
   "metadata": {
    "execution": {
     "iopub.execute_input": "2021-10-23T21:09:39.541400Z",
     "iopub.status.busy": "2021-10-23T21:09:39.535434Z",
     "iopub.status.idle": "2021-10-23T21:09:39.587247Z",
     "shell.execute_reply": "2021-10-23T21:09:39.586486Z",
     "shell.execute_reply.started": "2021-10-23T21:06:36.113101Z"
    },
    "id": "TJ_25XNQ6KnT",
    "outputId": "e280ffc1-301c-417f-f9fb-804178d5ed70",
    "papermill": {
     "duration": 0.116565,
     "end_time": "2021-10-23T21:09:39.587407",
     "exception": false,
     "start_time": "2021-10-23T21:09:39.470842",
     "status": "completed"
    },
    "tags": []
   },
   "outputs": [
    {
     "data": {
      "text/html": [
       "<div>\n",
       "<style scoped>\n",
       "    .dataframe tbody tr th:only-of-type {\n",
       "        vertical-align: middle;\n",
       "    }\n",
       "\n",
       "    .dataframe tbody tr th {\n",
       "        vertical-align: top;\n",
       "    }\n",
       "\n",
       "    .dataframe thead th {\n",
       "        text-align: right;\n",
       "    }\n",
       "</style>\n",
       "<table border=\"1\" class=\"dataframe\">\n",
       "  <thead>\n",
       "    <tr style=\"text-align: right;\">\n",
       "      <th></th>\n",
       "      <th>count</th>\n",
       "      <th>mean</th>\n",
       "      <th>std</th>\n",
       "      <th>min</th>\n",
       "      <th>25%</th>\n",
       "      <th>50%</th>\n",
       "      <th>75%</th>\n",
       "      <th>max</th>\n",
       "    </tr>\n",
       "  </thead>\n",
       "  <tbody>\n",
       "    <tr>\n",
       "      <th>default</th>\n",
       "      <td>10127.0</td>\n",
       "      <td>0.160660</td>\n",
       "      <td>0.367235</td>\n",
       "      <td>0.00</td>\n",
       "      <td>0.000</td>\n",
       "      <td>0.00</td>\n",
       "      <td>0.000</td>\n",
       "      <td>1.00</td>\n",
       "    </tr>\n",
       "    <tr>\n",
       "      <th>idade</th>\n",
       "      <td>10127.0</td>\n",
       "      <td>46.325960</td>\n",
       "      <td>8.016814</td>\n",
       "      <td>26.00</td>\n",
       "      <td>41.000</td>\n",
       "      <td>46.00</td>\n",
       "      <td>52.000</td>\n",
       "      <td>73.00</td>\n",
       "    </tr>\n",
       "    <tr>\n",
       "      <th>dependentes</th>\n",
       "      <td>10127.0</td>\n",
       "      <td>2.346203</td>\n",
       "      <td>1.298908</td>\n",
       "      <td>0.00</td>\n",
       "      <td>1.000</td>\n",
       "      <td>2.00</td>\n",
       "      <td>3.000</td>\n",
       "      <td>5.00</td>\n",
       "    </tr>\n",
       "    <tr>\n",
       "      <th>meses_de_relacionamento</th>\n",
       "      <td>10127.0</td>\n",
       "      <td>35.928409</td>\n",
       "      <td>7.986416</td>\n",
       "      <td>13.00</td>\n",
       "      <td>31.000</td>\n",
       "      <td>36.00</td>\n",
       "      <td>40.000</td>\n",
       "      <td>56.00</td>\n",
       "    </tr>\n",
       "    <tr>\n",
       "      <th>qtd_produtos</th>\n",
       "      <td>10127.0</td>\n",
       "      <td>3.812580</td>\n",
       "      <td>1.554408</td>\n",
       "      <td>1.00</td>\n",
       "      <td>3.000</td>\n",
       "      <td>4.00</td>\n",
       "      <td>5.000</td>\n",
       "      <td>6.00</td>\n",
       "    </tr>\n",
       "    <tr>\n",
       "      <th>iteracoes_12m</th>\n",
       "      <td>10127.0</td>\n",
       "      <td>2.455317</td>\n",
       "      <td>1.106225</td>\n",
       "      <td>0.00</td>\n",
       "      <td>2.000</td>\n",
       "      <td>2.00</td>\n",
       "      <td>3.000</td>\n",
       "      <td>6.00</td>\n",
       "    </tr>\n",
       "    <tr>\n",
       "      <th>meses_inativo_12m</th>\n",
       "      <td>10127.0</td>\n",
       "      <td>2.341167</td>\n",
       "      <td>1.010622</td>\n",
       "      <td>0.00</td>\n",
       "      <td>2.000</td>\n",
       "      <td>2.00</td>\n",
       "      <td>3.000</td>\n",
       "      <td>6.00</td>\n",
       "    </tr>\n",
       "    <tr>\n",
       "      <th>limite_credito</th>\n",
       "      <td>10127.0</td>\n",
       "      <td>8632.440165</td>\n",
       "      <td>9088.788041</td>\n",
       "      <td>1438.00</td>\n",
       "      <td>2555.355</td>\n",
       "      <td>4549.42</td>\n",
       "      <td>11068.175</td>\n",
       "      <td>34516.99</td>\n",
       "    </tr>\n",
       "    <tr>\n",
       "      <th>valor_transacoes_12m</th>\n",
       "      <td>10127.0</td>\n",
       "      <td>4404.583047</td>\n",
       "      <td>3397.128078</td>\n",
       "      <td>510.16</td>\n",
       "      <td>2155.825</td>\n",
       "      <td>3899.59</td>\n",
       "      <td>4741.310</td>\n",
       "      <td>18484.93</td>\n",
       "    </tr>\n",
       "    <tr>\n",
       "      <th>qtd_transacoes_12m</th>\n",
       "      <td>10127.0</td>\n",
       "      <td>64.858695</td>\n",
       "      <td>23.472570</td>\n",
       "      <td>10.00</td>\n",
       "      <td>45.000</td>\n",
       "      <td>67.00</td>\n",
       "      <td>81.000</td>\n",
       "      <td>139.00</td>\n",
       "    </tr>\n",
       "  </tbody>\n",
       "</table>\n",
       "</div>"
      ],
      "text/plain": [
       "                           count         mean          std      min       25%  \\\n",
       "default                  10127.0     0.160660     0.367235     0.00     0.000   \n",
       "idade                    10127.0    46.325960     8.016814    26.00    41.000   \n",
       "dependentes              10127.0     2.346203     1.298908     0.00     1.000   \n",
       "meses_de_relacionamento  10127.0    35.928409     7.986416    13.00    31.000   \n",
       "qtd_produtos             10127.0     3.812580     1.554408     1.00     3.000   \n",
       "iteracoes_12m            10127.0     2.455317     1.106225     0.00     2.000   \n",
       "meses_inativo_12m        10127.0     2.341167     1.010622     0.00     2.000   \n",
       "limite_credito           10127.0  8632.440165  9088.788041  1438.00  2555.355   \n",
       "valor_transacoes_12m     10127.0  4404.583047  3397.128078   510.16  2155.825   \n",
       "qtd_transacoes_12m       10127.0    64.858695    23.472570    10.00    45.000   \n",
       "\n",
       "                             50%        75%       max  \n",
       "default                     0.00      0.000      1.00  \n",
       "idade                      46.00     52.000     73.00  \n",
       "dependentes                 2.00      3.000      5.00  \n",
       "meses_de_relacionamento    36.00     40.000     56.00  \n",
       "qtd_produtos                4.00      5.000      6.00  \n",
       "iteracoes_12m               2.00      3.000      6.00  \n",
       "meses_inativo_12m           2.00      3.000      6.00  \n",
       "limite_credito           4549.42  11068.175  34516.99  \n",
       "valor_transacoes_12m     3899.59   4741.310  18484.93  \n",
       "qtd_transacoes_12m         67.00     81.000    139.00  "
      ]
     },
     "execution_count": 19,
     "metadata": {},
     "output_type": "execute_result"
    }
   ],
   "source": [
    "df.drop('id', axis=1).select_dtypes('number').describe().transpose()"
   ]
  },
  {
   "cell_type": "markdown",
   "id": "d1a9dfae",
   "metadata": {
    "id": "n1MM3vTg6zTc",
    "papermill": {
     "duration": 0.062535,
     "end_time": "2021-10-23T21:09:39.711477",
     "exception": false,
     "start_time": "2021-10-23T21:09:39.648942",
     "status": "completed"
    },
    "tags": []
   },
   "source": [
    " The last task in this stage will be removing the lines with 'na' values. And make the analysis possible with no troubles or bugs because of missing data:"
   ]
  },
  {
   "cell_type": "code",
   "execution_count": 20,
   "id": "2daa1d22",
   "metadata": {
    "execution": {
     "iopub.execute_input": "2021-10-23T21:09:39.840242Z",
     "iopub.status.busy": "2021-10-23T21:09:39.839442Z",
     "iopub.status.idle": "2021-10-23T21:09:39.853045Z",
     "shell.execute_reply": "2021-10-23T21:09:39.852202Z",
     "shell.execute_reply.started": "2021-10-23T21:06:36.160084Z"
    },
    "id": "Nq9dM3H67XP9",
    "outputId": "4c81a673-a408-47af-d834-bcc9030bde7b",
    "papermill": {
     "duration": 0.079858,
     "end_time": "2021-10-23T21:09:39.853230",
     "exception": false,
     "start_time": "2021-10-23T21:09:39.773372",
     "status": "completed"
    },
    "tags": []
   },
   "outputs": [
    {
     "data": {
      "text/plain": [
       "(7081, 16)"
      ]
     },
     "execution_count": 20,
     "metadata": {},
     "output_type": "execute_result"
    }
   ],
   "source": [
    "df.dropna(inplace=True)\n",
    "df.shape"
   ]
  },
  {
   "cell_type": "code",
   "execution_count": 21,
   "id": "3c804e83",
   "metadata": {
    "execution": {
     "iopub.execute_input": "2021-10-23T21:09:39.984067Z",
     "iopub.status.busy": "2021-10-23T21:09:39.983303Z",
     "iopub.status.idle": "2021-10-23T21:09:39.986450Z",
     "shell.execute_reply": "2021-10-23T21:09:39.985837Z",
     "shell.execute_reply.started": "2021-10-23T21:06:36.171772Z"
    },
    "id": "u7iKdj0d7oPR",
    "papermill": {
     "duration": 0.071903,
     "end_time": "2021-10-23T21:09:39.986616",
     "exception": false,
     "start_time": "2021-10-23T21:09:39.914713",
     "status": "completed"
    },
    "tags": []
   },
   "outputs": [],
   "source": [
    "new_total, _ = df.shape\n",
    "new_qty_non, _ = df[df['default'] == 0].shape\n",
    "new_qty_def, _ = df[df['default'] == 1].shape"
   ]
  },
  {
   "cell_type": "markdown",
   "id": "faa61102",
   "metadata": {
    "id": "DeKQXWgk74qZ",
    "papermill": {
     "duration": 0.062028,
     "end_time": "2021-10-23T21:09:40.111130",
     "exception": false,
     "start_time": "2021-10-23T21:09:40.049102",
     "status": "completed"
    },
    "tags": []
   },
   "source": [
    "Just validating the featureless impact:"
   ]
  },
  {
   "cell_type": "code",
   "execution_count": 22,
   "id": "18b6add6",
   "metadata": {
    "execution": {
     "iopub.execute_input": "2021-10-23T21:09:40.242897Z",
     "iopub.status.busy": "2021-10-23T21:09:40.242181Z",
     "iopub.status.idle": "2021-10-23T21:09:40.248662Z",
     "shell.execute_reply": "2021-10-23T21:09:40.248016Z",
     "shell.execute_reply.started": "2021-10-23T21:06:36.182487Z"
    },
    "id": "gkxPLVdH8Ef1",
    "outputId": "430e0351-4bef-40ae-e17f-2904663f4845",
    "papermill": {
     "duration": 0.07474,
     "end_time": "2021-10-23T21:09:40.248819",
     "exception": false,
     "start_time": "2021-10-23T21:09:40.174079",
     "status": "completed"
    },
    "tags": []
   },
   "outputs": [
    {
     "name": "stdout",
     "output_type": "stream",
     "text": [
      "The non-defaulters percentage is 83.93%\n",
      "The new non-defaulters percentage is 84.28%\n",
      "\n",
      "The defaulters percentage is 16.07%\n",
      "The new defaulters percentage is 15.72%\n"
     ]
    }
   ],
   "source": [
    "print(f\"The non-defaulters percentage is {round(100 * qty_non / total, 2)}%\")\n",
    "print(f\"The new non-defaulters percentage is {round(100 * new_qty_non / new_total, 2)}%\")\n",
    "print(\"\")\n",
    "print(f\"The defaulters percentage is {round(100 * qty_def / total, 2)}%\")\n",
    "print(f\"The new defaulters percentage is {round(100 * new_qty_def / new_total, 2)}%\")"
   ]
  },
  {
   "cell_type": "markdown",
   "id": "6770f55a",
   "metadata": {
    "id": "R4faFH5p-iWG",
    "papermill": {
     "duration": 0.062522,
     "end_time": "2021-10-23T21:09:40.372621",
     "exception": false,
     "start_time": "2021-10-23T21:09:40.310099",
     "status": "completed"
    },
    "tags": []
   },
   "source": [
    "## **4\\. Data Visualization Stage**"
   ]
  },
  {
   "cell_type": "markdown",
   "id": "60e09205",
   "metadata": {
    "id": "0FXa7gYr-pIs",
    "papermill": {
     "duration": 0.060655,
     "end_time": "2021-10-23T21:09:40.495301",
     "exception": false,
     "start_time": "2021-10-23T21:09:40.434646",
     "status": "completed"
    },
    "tags": []
   },
   "source": [
    "Well, it's everything set. So let's start to create visualizations to interact the 'default' column, and its variables, with the other columns to conduct data-driven analysis on some reasons why customers turn defaulters:"
   ]
  },
  {
   "cell_type": "code",
   "execution_count": 23,
   "id": "007c7d6d",
   "metadata": {
    "execution": {
     "iopub.execute_input": "2021-10-23T21:09:40.629515Z",
     "iopub.status.busy": "2021-10-23T21:09:40.628346Z",
     "iopub.status.idle": "2021-10-23T21:09:40.631246Z",
     "shell.execute_reply": "2021-10-23T21:09:40.630521Z",
     "shell.execute_reply.started": "2021-10-23T21:06:36.192162Z"
    },
    "id": "JQ9RjCNnmnej",
    "papermill": {
     "duration": 0.072014,
     "end_time": "2021-10-23T21:09:40.631444",
     "exception": false,
     "start_time": "2021-10-23T21:09:40.559430",
     "status": "completed"
    },
    "tags": []
   },
   "outputs": [],
   "source": [
    "df_non = df[df['default'] == 0]"
   ]
  },
  {
   "cell_type": "code",
   "execution_count": 24,
   "id": "d7aacbe8",
   "metadata": {
    "execution": {
     "iopub.execute_input": "2021-10-23T21:09:40.761654Z",
     "iopub.status.busy": "2021-10-23T21:09:40.760479Z",
     "iopub.status.idle": "2021-10-23T21:09:40.763634Z",
     "shell.execute_reply": "2021-10-23T21:09:40.763033Z",
     "shell.execute_reply.started": "2021-10-23T21:06:36.205653Z"
    },
    "id": "lhU1XfsvmnWC",
    "papermill": {
     "duration": 0.07046,
     "end_time": "2021-10-23T21:09:40.763791",
     "exception": false,
     "start_time": "2021-10-23T21:09:40.693331",
     "status": "completed"
    },
    "tags": []
   },
   "outputs": [],
   "source": [
    "df_def = df[df['default'] == 1]"
   ]
  },
  {
   "cell_type": "markdown",
   "id": "a39062fb",
   "metadata": {
    "id": "qrFASraXj_IT",
    "papermill": {
     "duration": 0.062318,
     "end_time": "2021-10-23T21:09:40.887906",
     "exception": false,
     "start_time": "2021-10-23T21:09:40.825588",
     "status": "completed"
    },
    "tags": []
   },
   "source": [
    "Choosing which seaborn style to work:"
   ]
  },
  {
   "cell_type": "code",
   "execution_count": 25,
   "id": "48fe69e6",
   "metadata": {
    "execution": {
     "iopub.execute_input": "2021-10-23T21:09:41.017601Z",
     "iopub.status.busy": "2021-10-23T21:09:41.016821Z",
     "iopub.status.idle": "2021-10-23T21:09:41.019665Z",
     "shell.execute_reply": "2021-10-23T21:09:41.018823Z",
     "shell.execute_reply.started": "2021-10-23T21:06:36.217297Z"
    },
    "id": "ACaWJRA_kGx0",
    "papermill": {
     "duration": 0.069286,
     "end_time": "2021-10-23T21:09:41.019881",
     "exception": false,
     "start_time": "2021-10-23T21:09:40.950595",
     "status": "completed"
    },
    "tags": []
   },
   "outputs": [],
   "source": [
    "sns.set_style(\"darkgrid\")"
   ]
  },
  {
   "cell_type": "markdown",
   "id": "c1e440bb",
   "metadata": {
    "id": "SZJFLGAfqMl2",
    "papermill": {
     "duration": 0.061876,
     "end_time": "2021-10-23T21:09:41.144541",
     "exception": false,
     "start_time": "2021-10-23T21:09:41.082665",
     "status": "completed"
    },
    "tags": []
   },
   "source": [
    "### **4.1. Categorical Visualization**"
   ]
  },
  {
   "cell_type": "markdown",
   "id": "9123f4ff",
   "metadata": {
    "id": "eRPIcfQak9pf",
    "papermill": {
     "duration": 0.061002,
     "end_time": "2021-10-23T21:09:41.268065",
     "exception": false,
     "start_time": "2021-10-23T21:09:41.207063",
     "status": "completed"
    },
    "tags": []
   },
   "source": [
    "* Interacting with the 'escolaridade' column:\n",
    "\n",
    "\n"
   ]
  },
  {
   "cell_type": "code",
   "execution_count": 26,
   "id": "a4e418a0",
   "metadata": {
    "execution": {
     "iopub.execute_input": "2021-10-23T21:09:41.394632Z",
     "iopub.status.busy": "2021-10-23T21:09:41.393764Z",
     "iopub.status.idle": "2021-10-23T21:09:42.305060Z",
     "shell.execute_reply": "2021-10-23T21:09:42.305634Z",
     "shell.execute_reply.started": "2021-10-23T21:06:36.229422Z"
    },
    "id": "K06bem_GlWAS",
    "outputId": "0dfb60b3-625d-4ac6-8132-a0db127828dc",
    "papermill": {
     "duration": 0.976193,
     "end_time": "2021-10-23T21:09:42.305824",
     "exception": false,
     "start_time": "2021-10-23T21:09:41.329631",
     "status": "completed"
    },
    "tags": []
   },
   "outputs": [
    {
     "name": "stderr",
     "output_type": "stream",
     "text": [
      "/tmp/ipykernel_8937/3227912151.py:28: UserWarning: Matplotlib is currently using module://matplotlib_inline.backend_inline, which is a non-GUI backend, so cannot show the figure.\n",
      "  pic.show()\n"
     ]
    },
    {
     "data": {
      "image/png": "[encoded data removed]",
      "text/plain": [
       "<Figure size 1440x360 with 3 Axes>"
      ]
     },
     "metadata": {},
     "output_type": "display_data"
    }
   ],
   "source": [
    "column = 'escolaridade'\n",
    "titles = [\"Customers' Education\", \"Non-Defaulters' Education\", \"Defaulters' Education\"]\n",
    "\n",
    "axis = 0\n",
    "max_y = 0\n",
    "max = df.select_dtypes('object').describe()[column]['freq'] * 1.1\n",
    "\n",
    "pic, axes = plt.subplots(1,3, figsize=(20, 5), sharex=True)\n",
    "\n",
    "for dataframe in [df, df_non, df_def]:\n",
    "\n",
    "  df_to_plot = dataframe[column].value_counts().to_frame()\n",
    "  df_to_plot.rename(columns={column: 'absolute_frequency'}, inplace=True)\n",
    "  df_to_plot[column] = df_to_plot.index\n",
    "  df_to_plot.sort_values(by=[column], inplace=True)\n",
    "  df_to_plot.sort_values(by=[column])\n",
    "\n",
    "  f = sns.barplot(x=df_to_plot[column], y=df_to_plot['absolute_frequency'], ax=axes[axis])\n",
    "  f.set(title=titles[axis], xlabel=column.capitalize(), ylabel='Absolute Frequency')\n",
    "  f.set_xticklabels(labels=f.get_xticklabels(), rotation=90)\n",
    "\n",
    "  _, max_y_f = f.get_ylim()\n",
    "  max_y = max_y_f if max_y_f > max_y else max_y\n",
    "  f.set(ylim=(0, max_y))\n",
    "\n",
    "  axis += 1\n",
    "\n",
    "pic.show()"
   ]
  },
  {
   "cell_type": "markdown",
   "id": "17032f51",
   "metadata": {
    "id": "Qz9C-mIm0dDs",
    "papermill": {
     "duration": 0.06305,
     "end_time": "2021-10-23T21:09:42.431338",
     "exception": false,
     "start_time": "2021-10-23T21:09:42.368288",
     "status": "completed"
    },
    "tags": []
   },
   "source": [
    "Not even a slight difference in this case above. The proportion is the same for defaulters and non-defaulters."
   ]
  },
  {
   "cell_type": "markdown",
   "id": "585768bc",
   "metadata": {
    "id": "m4OaLVvkpKem",
    "papermill": {
     "duration": 0.063051,
     "end_time": "2021-10-23T21:09:42.556841",
     "exception": false,
     "start_time": "2021-10-23T21:09:42.493790",
     "status": "completed"
    },
    "tags": []
   },
   "source": [
    "* Interacting with the 'salario_anual' column:"
   ]
  },
  {
   "cell_type": "code",
   "execution_count": 27,
   "id": "86608e66",
   "metadata": {
    "execution": {
     "iopub.execute_input": "2021-10-23T21:09:42.686671Z",
     "iopub.status.busy": "2021-10-23T21:09:42.685899Z",
     "iopub.status.idle": "2021-10-23T21:09:43.671410Z",
     "shell.execute_reply": "2021-10-23T21:09:43.671997Z",
     "shell.execute_reply.started": "2021-10-23T21:06:36.813978Z"
    },
    "id": "Ssc64qutpQrq",
    "outputId": "4fa91898-b304-4dbb-cd2a-df06d2a477b0",
    "papermill": {
     "duration": 1.051863,
     "end_time": "2021-10-23T21:09:43.672190",
     "exception": false,
     "start_time": "2021-10-23T21:09:42.620327",
     "status": "completed"
    },
    "tags": []
   },
   "outputs": [
    {
     "name": "stderr",
     "output_type": "stream",
     "text": [
      "/tmp/ipykernel_8937/1869112064.py:28: UserWarning: Matplotlib is currently using module://matplotlib_inline.backend_inline, which is a non-GUI backend, so cannot show the figure.\n",
      "  pic.show()\n"
     ]
    },
    {
     "data": {
      "image/png": "[encoded data removed]",
      "text/plain": [
       "<Figure size 1440x360 with 3 Axes>"
      ]
     },
     "metadata": {},
     "output_type": "display_data"
    }
   ],
   "source": [
    "column = 'salario_anual'\n",
    "titles = [\"Customers' Annual Salary\", \"Non-Defaulters' Annual Salary\", \"Defaulters' Annual Salary\"]\n",
    "\n",
    "axis = 0\n",
    "max_y = 0\n",
    "max = df.select_dtypes('object').describe()[column]['freq'] * 1.1\n",
    "\n",
    "pic, axes = plt.subplots(1,3, figsize=(20, 5), sharex=True)\n",
    "\n",
    "for dataframe in [df, df_non, df_def]:\n",
    "\n",
    "  df_to_plot = dataframe[column].value_counts().to_frame()\n",
    "  df_to_plot.rename(columns={column: 'absolute_frequency'}, inplace=True)\n",
    "  df_to_plot[column] = df_to_plot.index\n",
    "  df_to_plot.sort_values(by=[column], inplace=True)\n",
    "  df_to_plot.sort_values(by=[column])\n",
    "\n",
    "  f = sns.barplot(x=df_to_plot[column], y=df_to_plot['absolute_frequency'], ax=axes[axis])\n",
    "  f.set(title=titles[axis], xlabel=column.capitalize(), ylabel='Absolute Frequency')\n",
    "  f.set_xticklabels(labels=f.get_xticklabels(), rotation=90)\n",
    "\n",
    "  _, max_y_f = f.get_ylim()\n",
    "  max_y = max_y_f if max_y_f > max_y else max_y\n",
    "  f.set(ylim=(0, max_y))\n",
    "\n",
    "  axis += 1\n",
    "\n",
    "pic.show()"
   ]
  },
  {
   "cell_type": "markdown",
   "id": "6b6de860",
   "metadata": {
    "id": "9UOkyDcv0gQM",
    "papermill": {
     "duration": 0.065764,
     "end_time": "2021-10-23T21:09:43.801260",
     "exception": false,
     "start_time": "2021-10-23T21:09:43.735496",
     "status": "completed"
    },
    "tags": []
   },
   "source": [
    "Not even a slight difference in this case above. The proportion is the same for defaulters and non-defaulters."
   ]
  },
  {
   "cell_type": "markdown",
   "id": "ca87bbbb",
   "metadata": {
    "id": "G1ON-DOrt5ym",
    "papermill": {
     "duration": 0.063007,
     "end_time": "2021-10-23T21:09:43.934436",
     "exception": false,
     "start_time": "2021-10-23T21:09:43.871429",
     "status": "completed"
    },
    "tags": []
   },
   "source": [
    "* Interacting with the 'tipo_cartao' column:"
   ]
  },
  {
   "cell_type": "code",
   "execution_count": 28,
   "id": "e2c1e8ec",
   "metadata": {
    "execution": {
     "iopub.execute_input": "2021-10-23T21:09:44.074837Z",
     "iopub.status.busy": "2021-10-23T21:09:44.074086Z",
     "iopub.status.idle": "2021-10-23T21:09:44.794362Z",
     "shell.execute_reply": "2021-10-23T21:09:44.793720Z",
     "shell.execute_reply.started": "2021-10-23T21:06:37.567675Z"
    },
    "id": "fBfplZN1s2h1",
    "outputId": "1226bd0d-caa5-4805-b392-9bcbce25faa1",
    "papermill": {
     "duration": 0.795051,
     "end_time": "2021-10-23T21:09:44.794528",
     "exception": false,
     "start_time": "2021-10-23T21:09:43.999477",
     "status": "completed"
    },
    "tags": []
   },
   "outputs": [
    {
     "name": "stderr",
     "output_type": "stream",
     "text": [
      "/tmp/ipykernel_8937/564777835.py:28: UserWarning: Matplotlib is currently using module://matplotlib_inline.backend_inline, which is a non-GUI backend, so cannot show the figure.\n",
      "  pic.show()\n"
     ]
    },
    {
     "data": {
      "image/png": "[encoded data removed]",
      "text/plain": [
       "<Figure size 1440x360 with 3 Axes>"
      ]
     },
     "metadata": {},
     "output_type": "display_data"
    }
   ],
   "source": [
    "column = 'tipo_cartao'\n",
    "titles = [\"Customers' Card Type\", \"Non-Defaulters' Card Type\", \"Defaulters' Card Type\"]\n",
    "\n",
    "axis = 0\n",
    "max_y = 0\n",
    "max = df.select_dtypes('object').describe()[column]['freq'] * 1.1\n",
    "\n",
    "pic, axes = plt.subplots(1,3, figsize=(20, 5), sharex=True)\n",
    "\n",
    "for dataframe in [df, df_non, df_def]:\n",
    "\n",
    "  df_to_plot = dataframe[column].value_counts().to_frame()\n",
    "  df_to_plot.rename(columns={column: 'absolute_frequency'}, inplace=True)\n",
    "  df_to_plot[column] = df_to_plot.index\n",
    "  df_to_plot.sort_values(by=[column], inplace=True)\n",
    "  df_to_plot.sort_values(by=[column])\n",
    "\n",
    "  f = sns.barplot(x=df_to_plot[column], y=df_to_plot['absolute_frequency'], ax=axes[axis])\n",
    "  f.set(title=titles[axis], xlabel=column.capitalize(), ylabel='Absolute Frequency')\n",
    "  f.set_xticklabels(labels=f.get_xticklabels(), rotation=90)\n",
    "\n",
    "  _, max_y_f = f.get_ylim()\n",
    "  max_y = max_y_f if max_y_f > max_y else max_y\n",
    "  f.set(ylim=(0, max_y))\n",
    "\n",
    "  axis += 1\n",
    "\n",
    "pic.show()"
   ]
  },
  {
   "cell_type": "markdown",
   "id": "1a265315",
   "metadata": {
    "id": "_oxcZDtH0sDt",
    "papermill": {
     "duration": 0.065356,
     "end_time": "2021-10-23T21:09:44.926370",
     "exception": false,
     "start_time": "2021-10-23T21:09:44.861014",
     "status": "completed"
    },
    "tags": []
   },
   "source": [
    "Same behavior between defaulters and non-defaulters above."
   ]
  },
  {
   "cell_type": "code",
   "execution_count": 29,
   "id": "bfab1e58",
   "metadata": {
    "execution": {
     "iopub.execute_input": "2021-10-23T21:09:45.060587Z",
     "iopub.status.busy": "2021-10-23T21:09:45.059756Z",
     "iopub.status.idle": "2021-10-23T21:09:45.732779Z",
     "shell.execute_reply": "2021-10-23T21:09:45.733399Z",
     "shell.execute_reply.started": "2021-10-23T21:06:38.108946Z"
    },
    "id": "roJ7SAAxuT97",
    "outputId": "d94734a8-dbb6-47b3-e466-905fd9aecd4f",
    "papermill": {
     "duration": 0.741793,
     "end_time": "2021-10-23T21:09:45.733593",
     "exception": false,
     "start_time": "2021-10-23T21:09:44.991800",
     "status": "completed"
    },
    "tags": []
   },
   "outputs": [
    {
     "name": "stderr",
     "output_type": "stream",
     "text": [
      "/tmp/ipykernel_8937/1234645915.py:28: UserWarning: Matplotlib is currently using module://matplotlib_inline.backend_inline, which is a non-GUI backend, so cannot show the figure.\n",
      "  pic.show()\n"
     ]
    },
    {
     "data": {
      "image/png": "[encoded data removed]",
      "text/plain": [
       "<Figure size 1440x360 with 3 Axes>"
      ]
     },
     "metadata": {},
     "output_type": "display_data"
    }
   ],
   "source": [
    "column = 'estado_civil'\n",
    "titles = [\"Customers' Marital Status\", \"Non-Defaulters' Marital Status\", \"Defaulters' Marital Status\"]\n",
    "\n",
    "axis = 0\n",
    "max_y = 0\n",
    "max = df.select_dtypes('object').describe()[column]['freq'] * 1.1\n",
    "\n",
    "pic, axes = plt.subplots(1,3, figsize=(20, 5), sharex=True)\n",
    "\n",
    "for dataframe in [df, df_non, df_def]:\n",
    "\n",
    "  df_to_plot = dataframe[column].value_counts().to_frame()\n",
    "  df_to_plot.rename(columns={column: 'absolute_frequency'}, inplace=True)\n",
    "  df_to_plot[column] = df_to_plot.index\n",
    "  df_to_plot.sort_values(by=[column], inplace=True)\n",
    "  df_to_plot.sort_values(by=[column])\n",
    "\n",
    "  f = sns.barplot(x=df_to_plot[column], y=df_to_plot['absolute_frequency'], ax=axes[axis])\n",
    "  f.set(title=titles[axis], xlabel=column.capitalize(), ylabel='Absolute Frequency')\n",
    "  f.set_xticklabels(labels=f.get_xticklabels(), rotation=90)\n",
    "\n",
    "  _, max_y_f = f.get_ylim()\n",
    "  max_y = max_y_f if max_y_f > max_y else max_y\n",
    "  f.set(ylim=(0, max_y))\n",
    "\n",
    "  axis += 1\n",
    "\n",
    "pic.show()"
   ]
  },
  {
   "cell_type": "markdown",
   "id": "b70a9c2d",
   "metadata": {
    "id": "3wVEfdtoxUBF",
    "papermill": {
     "duration": 0.065539,
     "end_time": "2021-10-23T21:09:45.864639",
     "exception": false,
     "start_time": "2021-10-23T21:09:45.799100",
     "status": "completed"
    },
    "tags": []
   },
   "source": [
    "Above, we can notice a slight difference between 'solteiro' proportion to 'casado' in 'non-defaulters' and 'defaulters' graphics."
   ]
  },
  {
   "cell_type": "markdown",
   "id": "e65a23b5",
   "metadata": {
    "id": "C72KNvZs1bNv",
    "papermill": {
     "duration": 0.066093,
     "end_time": "2021-10-23T21:09:45.996783",
     "exception": false,
     "start_time": "2021-10-23T21:09:45.930690",
     "status": "completed"
    },
    "tags": []
   },
   "source": [
    "### **4.2 Numerical Visualization**"
   ]
  },
  {
   "cell_type": "markdown",
   "id": "3f101bda",
   "metadata": {
    "id": "HdvFnUsa1giA",
    "papermill": {
     "duration": 0.065667,
     "end_time": "2021-10-23T21:09:46.129062",
     "exception": false,
     "start_time": "2021-10-23T21:09:46.063395",
     "status": "completed"
    },
    "tags": []
   },
   "source": [
    "* Interacting with the 'qtd_transacoes_12m' column:"
   ]
  },
  {
   "cell_type": "code",
   "execution_count": 30,
   "id": "a125ed0d",
   "metadata": {
    "execution": {
     "iopub.execute_input": "2021-10-23T21:09:46.264177Z",
     "iopub.status.busy": "2021-10-23T21:09:46.263387Z",
     "iopub.status.idle": "2021-10-23T21:09:47.463303Z",
     "shell.execute_reply": "2021-10-23T21:09:47.463871Z",
     "shell.execute_reply.started": "2021-10-23T21:06:38.640866Z"
    },
    "id": "IDQzp7p8263U",
    "outputId": "1564421b-fc51-4794-e307-43b93beea0a7",
    "papermill": {
     "duration": 1.269032,
     "end_time": "2021-10-23T21:09:47.464085",
     "exception": false,
     "start_time": "2021-10-23T21:09:46.195053",
     "status": "completed"
    },
    "tags": []
   },
   "outputs": [
    {
     "name": "stderr",
     "output_type": "stream",
     "text": [
      "/tmp/ipykernel_8937/3189079734.py:19: UserWarning: Matplotlib is currently using module://matplotlib_inline.backend_inline, which is a non-GUI backend, so cannot show the figure.\n",
      "  pic.show()\n"
     ]
    },
    {
     "data": {
      "image/png": "[encoded data removed]",
      "text/plain": [
       "<Figure size 1440x360 with 3 Axes>"
      ]
     },
     "metadata": {},
     "output_type": "display_data"
    }
   ],
   "source": [
    "column = 'qtd_transacoes_12m'\n",
    "titles = [\"Quantity of transactions at the last year\", \"Non-defaulters' quantity of transactions at the last year\", \"Defaulters' quantity of transactions at the last year\"]\n",
    "\n",
    "axis = 0\n",
    "max_y = 0\n",
    "pic, axes = plt.subplots(1,3, figsize=(20, 5), sharex=True)\n",
    "\n",
    "for dataframe in [df, df_non, df_def]:\n",
    "\n",
    "  f = sns.histplot(x=column, data=dataframe, stat='count', ax=axes[axis])\n",
    "  f.set(title=titles[axis], xlabel=column.capitalize(), ylabel='Absolute Frequency')\n",
    "\n",
    "  _, max_y_f = f.get_ylim()\n",
    "  max_y = max_y_f if max_y_f > max_y else max_y\n",
    "  f.set(ylim=(0, max_y))\n",
    "\n",
    "  axis += 1\n",
    "\n",
    "pic.show()"
   ]
  },
  {
   "cell_type": "markdown",
   "id": "398f506a",
   "metadata": {
    "id": "Pijk25_GEDne",
    "papermill": {
     "duration": 0.06851,
     "end_time": "2021-10-23T21:09:47.600775",
     "exception": false,
     "start_time": "2021-10-23T21:09:47.532265",
     "status": "completed"
    },
    "tags": []
   },
   "source": [
    "* Interacting with the 'valor_transacoes_12m' column:"
   ]
  },
  {
   "cell_type": "code",
   "execution_count": 31,
   "id": "27debaa5",
   "metadata": {
    "execution": {
     "iopub.execute_input": "2021-10-23T21:09:47.738479Z",
     "iopub.status.busy": "2021-10-23T21:09:47.737374Z",
     "iopub.status.idle": "2021-10-23T21:09:49.302783Z",
     "shell.execute_reply": "2021-10-23T21:09:49.303314Z",
     "shell.execute_reply.started": "2021-10-23T21:06:39.541184Z"
    },
    "id": "lOSnn9kXEZVY",
    "outputId": "e41a13fb-0cc1-47ad-bde7-1a1dbfe91ffc",
    "papermill": {
     "duration": 1.635825,
     "end_time": "2021-10-23T21:09:49.303517",
     "exception": false,
     "start_time": "2021-10-23T21:09:47.667692",
     "status": "completed"
    },
    "tags": []
   },
   "outputs": [
    {
     "name": "stderr",
     "output_type": "stream",
     "text": [
      "/tmp/ipykernel_8937/319928047.py:19: UserWarning: Matplotlib is currently using module://matplotlib_inline.backend_inline, which is a non-GUI backend, so cannot show the figure.\n",
      "  pic.show()\n"
     ]
    },
    {
     "data": {
      "image/png": "[encoded data removed]",
      "text/plain": [
       "<Figure size 1440x360 with 3 Axes>"
      ]
     },
     "metadata": {},
     "output_type": "display_data"
    }
   ],
   "source": [
    "column = 'valor_transacoes_12m'\n",
    "titles = [\"Value of transactions at the last year\", \"Non-defaulters' value of transactions at the last year\", \"Defaulters' value of transactions at the last year\"]\n",
    "\n",
    "axis = 0\n",
    "max_y = 0\n",
    "pic, axes = plt.subplots(1,3, figsize=(20, 5), sharex=True)\n",
    "\n",
    "for dataframe in [df, df_non, df_def]:\n",
    "\n",
    "  f = sns.histplot(x=column, data=dataframe, stat='count', ax=axes[axis])\n",
    "  f.set(title=titles[axis], xlabel=column.capitalize(), ylabel='Absolute Frequency')\n",
    "\n",
    "  _, max_y_f = f.get_ylim()\n",
    "  max_y = max_y_f if max_y_f > max_y else max_y\n",
    "  f.set(ylim=(0, max_y))\n",
    "\n",
    "  axis += 1\n",
    "\n",
    "pic.show()"
   ]
  },
  {
   "cell_type": "markdown",
   "id": "3e7d292a",
   "metadata": {
    "id": "GVKmM9GyE5f5",
    "papermill": {
     "duration": 0.067602,
     "end_time": "2021-10-23T21:09:49.439142",
     "exception": false,
     "start_time": "2021-10-23T21:09:49.371540",
     "status": "completed"
    },
    "tags": []
   },
   "source": [
    "Both graphics above starts showing some specific behavior of defaulters. Let's see it in this way: 'valor_transacoes_12m'x'qtd_transacoes_12m'/'default':"
   ]
  },
  {
   "cell_type": "code",
   "execution_count": 32,
   "id": "7b1905da",
   "metadata": {
    "execution": {
     "iopub.execute_input": "2021-10-23T21:09:49.579302Z",
     "iopub.status.busy": "2021-10-23T21:09:49.578194Z",
     "iopub.status.idle": "2021-10-23T21:09:50.939232Z",
     "shell.execute_reply": "2021-10-23T21:09:50.938535Z",
     "shell.execute_reply.started": "2021-10-23T21:06:40.628606Z"
    },
    "id": "PsvGflo5JOnE",
    "outputId": "cdc6b16a-2755-40b1-beca-d943a80b209c",
    "papermill": {
     "duration": 1.432021,
     "end_time": "2021-10-23T21:09:50.939399",
     "exception": false,
     "start_time": "2021-10-23T21:09:49.507378",
     "status": "completed"
    },
    "tags": []
   },
   "outputs": [
    {
     "data": {
      "image/png": "[encoded data removed]",
      "text/plain": [
       "<Figure size 403.375x360 with 1 Axes>"
      ]
     },
     "metadata": {},
     "output_type": "display_data"
    }
   ],
   "source": [
    "f = sns.relplot(x='valor_transacoes_12m', y='qtd_transacoes_12m', data=df, hue='default')\n",
    "_ = f.set(\n",
    "    title='Relationship between Value and Number of Transactions in the Last Year', \n",
    "    xlabel='Value of transactions at the last year', \n",
    "    ylabel='Quantity of transactions at the last year'\n",
    "  )"
   ]
  },
  {
   "cell_type": "markdown",
   "id": "dd5ed0a7",
   "metadata": {
    "id": "3GZ6UB1l1Coc",
    "papermill": {
     "duration": 0.070685,
     "end_time": "2021-10-23T21:09:51.082447",
     "exception": false,
     "start_time": "2021-10-23T21:09:51.011762",
     "status": "completed"
    },
    "tags": []
   },
   "source": [
    "Ok, now we have a significant difference in behavior between defaulters and non-defaulters."
   ]
  },
  {
   "cell_type": "markdown",
   "id": "e2866f6d",
   "metadata": {
    "id": "2g9MEw2wNEhP",
    "papermill": {
     "duration": 0.071188,
     "end_time": "2021-10-23T21:09:51.224304",
     "exception": false,
     "start_time": "2021-10-23T21:09:51.153116",
     "status": "completed"
    },
    "tags": []
   },
   "source": [
    "* Interacting with the 'idade' column:"
   ]
  },
  {
   "cell_type": "code",
   "execution_count": 33,
   "id": "bdd8f049",
   "metadata": {
    "execution": {
     "iopub.execute_input": "2021-10-23T21:09:51.371286Z",
     "iopub.status.busy": "2021-10-23T21:09:51.370559Z",
     "iopub.status.idle": "2021-10-23T21:09:52.494903Z",
     "shell.execute_reply": "2021-10-23T21:09:52.495495Z",
     "shell.execute_reply.started": "2021-10-23T21:06:41.832932Z"
    },
    "id": "4EEvrNHeNFN0",
    "outputId": "f8de6eea-a2e9-4677-d66d-576f107c159b",
    "papermill": {
     "duration": 1.199164,
     "end_time": "2021-10-23T21:09:52.495690",
     "exception": false,
     "start_time": "2021-10-23T21:09:51.296526",
     "status": "completed"
    },
    "tags": []
   },
   "outputs": [
    {
     "name": "stderr",
     "output_type": "stream",
     "text": [
      "/tmp/ipykernel_8937/153605427.py:19: UserWarning: Matplotlib is currently using module://matplotlib_inline.backend_inline, which is a non-GUI backend, so cannot show the figure.\n",
      "  pic.show()\n"
     ]
    },
    {
     "data": {
      "image/png": "[encoded data removed]",
      "text/plain": [
       "<Figure size 1440x360 with 3 Axes>"
      ]
     },
     "metadata": {},
     "output_type": "display_data"
    }
   ],
   "source": [
    "column = 'idade'\n",
    "titles = [\"Ages of costumers\", \"Ages of Non-defaulters'\", \"Ages of Defaulters'\"]\n",
    "\n",
    "axis = 0\n",
    "max_y = 0\n",
    "pic, axes = plt.subplots(1,3, figsize=(20, 5), sharex=True)\n",
    "\n",
    "for dataframe in [df, df_non, df_def]:\n",
    "\n",
    "  f = sns.histplot(x=column, data=dataframe, stat='count', ax=axes[axis])\n",
    "  f.set(title=titles[axis], xlabel=column.capitalize(), ylabel='Absolute Frequency')\n",
    "\n",
    "  _, max_y_f = f.get_ylim()\n",
    "  max_y = max_y_f if max_y_f > max_y else max_y\n",
    "  f.set(ylim=(0, max_y))\n",
    "\n",
    "  axis += 1\n",
    "\n",
    "pic.show()"
   ]
  },
  {
   "cell_type": "markdown",
   "id": "ce050590",
   "metadata": {
    "id": "wyIr2h01O9V3",
    "papermill": {
     "duration": 0.072027,
     "end_time": "2021-10-23T21:09:52.640656",
     "exception": false,
     "start_time": "2021-10-23T21:09:52.568629",
     "status": "completed"
    },
    "tags": []
   },
   "source": [
    "* Interacting with the 'qtd_produtos' column:"
   ]
  },
  {
   "cell_type": "code",
   "execution_count": 34,
   "id": "52b43d96",
   "metadata": {
    "execution": {
     "iopub.execute_input": "2021-10-23T21:09:52.789707Z",
     "iopub.status.busy": "2021-10-23T21:09:52.788605Z",
     "iopub.status.idle": "2021-10-23T21:09:53.869909Z",
     "shell.execute_reply": "2021-10-23T21:09:53.870500Z",
     "shell.execute_reply.started": "2021-10-23T21:06:42.855404Z"
    },
    "id": "5mq1xMiFO9pc",
    "outputId": "50b85179-be92-46e9-90eb-352f63a8f40d",
    "papermill": {
     "duration": 1.157825,
     "end_time": "2021-10-23T21:09:53.870691",
     "exception": false,
     "start_time": "2021-10-23T21:09:52.712866",
     "status": "completed"
    },
    "tags": []
   },
   "outputs": [
    {
     "name": "stderr",
     "output_type": "stream",
     "text": [
      "/tmp/ipykernel_8937/1231133925.py:19: UserWarning: Matplotlib is currently using module://matplotlib_inline.backend_inline, which is a non-GUI backend, so cannot show the figure.\n",
      "  pic.show()\n"
     ]
    },
    {
     "data": {
      "image/png": "[encoded data removed]",
      "text/plain": [
       "<Figure size 1440x360 with 3 Axes>"
      ]
     },
     "metadata": {},
     "output_type": "display_data"
    }
   ],
   "source": [
    "column = 'qtd_produtos'\n",
    "titles = [\"Quantity of products\", \"Non-defaulters' quantity of products\", \"Defaulters' quantity of products\"]\n",
    "\n",
    "axis = 0\n",
    "max_y = 0\n",
    "pic, axes = plt.subplots(1,3, figsize=(20, 5), sharex=True)\n",
    "\n",
    "for dataframe in [df, df_non, df_def]:\n",
    "\n",
    "  f = sns.histplot(x=column, data=dataframe, stat='count', ax=axes[axis])\n",
    "  f.set(title=titles[axis], xlabel=column.capitalize(), ylabel='Absolute Frequency')\n",
    "\n",
    "  _, max_y_f = f.get_ylim()\n",
    "  max_y = max_y_f if max_y_f > max_y else max_y\n",
    "  f.set(ylim=(0, max_y))\n",
    "\n",
    "  axis += 1\n",
    "\n",
    "pic.show()"
   ]
  },
  {
   "cell_type": "markdown",
   "id": "1adbd437",
   "metadata": {
    "id": "KrcFvqzhQD3q",
    "papermill": {
     "duration": 0.072796,
     "end_time": "2021-10-23T21:09:54.016842",
     "exception": false,
     "start_time": "2021-10-23T21:09:53.944046",
     "status": "completed"
    },
    "tags": []
   },
   "source": [
    "* Interacting with the 'iteracoes_12m' column:"
   ]
  },
  {
   "cell_type": "code",
   "execution_count": 35,
   "id": "91200eb7",
   "metadata": {
    "execution": {
     "iopub.execute_input": "2021-10-23T21:09:54.167832Z",
     "iopub.status.busy": "2021-10-23T21:09:54.166737Z",
     "iopub.status.idle": "2021-10-23T21:09:55.360644Z",
     "shell.execute_reply": "2021-10-23T21:09:55.359908Z",
     "shell.execute_reply.started": "2021-10-23T21:06:43.682976Z"
    },
    "id": "B_Be8XUHQDWY",
    "outputId": "899c2c4f-eb13-4297-ef8d-b1b83d87f2e6",
    "papermill": {
     "duration": 1.270256,
     "end_time": "2021-10-23T21:09:55.360803",
     "exception": false,
     "start_time": "2021-10-23T21:09:54.090547",
     "status": "completed"
    },
    "tags": []
   },
   "outputs": [
    {
     "name": "stderr",
     "output_type": "stream",
     "text": [
      "/tmp/ipykernel_8937/3335818681.py:19: UserWarning: Matplotlib is currently using module://matplotlib_inline.backend_inline, which is a non-GUI backend, so cannot show the figure.\n",
      "  pic.show()\n"
     ]
    },
    {
     "data": {
      "image/png": "[encoded data removed]",
      "text/plain": [
       "<Figure size 1440x360 with 3 Axes>"
      ]
     },
     "metadata": {},
     "output_type": "display_data"
    }
   ],
   "source": [
    "column = 'iteracoes_12m'\n",
    "titles = [\"12m iterations\", \"Non-defaulters' 12m iterations\", \"Defaulters' 12m iterations\"]\n",
    "\n",
    "axis = 0\n",
    "max_y = 0\n",
    "pic, axes = plt.subplots(1,3, figsize=(20, 5), sharex=True)\n",
    "\n",
    "for dataframe in [df, df_non, df_def]:\n",
    "\n",
    "  f = sns.histplot(x=column, data=dataframe, stat='count', ax=axes[axis])\n",
    "  f.set(title=titles[axis], xlabel=column.capitalize(), ylabel='Absolute Frequency')\n",
    "\n",
    "  _, max_y_f = f.get_ylim()\n",
    "  max_y = max_y_f if max_y_f > max_y else max_y\n",
    "  f.set(ylim=(0, max_y))\n",
    "\n",
    "  axis += 1\n",
    "\n",
    "pic.show()"
   ]
  },
  {
   "cell_type": "markdown",
   "id": "4690061e",
   "metadata": {
    "id": "BqrtdLLnC13z",
    "papermill": {
     "duration": 0.074461,
     "end_time": "2021-10-23T21:09:55.511224",
     "exception": false,
     "start_time": "2021-10-23T21:09:55.436763",
     "status": "completed"
    },
    "tags": []
   },
   "source": [
    "## **5\\. Analysis Digest**"
   ]
  },
  {
   "cell_type": "markdown",
   "id": "43e084f3",
   "metadata": {
    "id": "NjdxxnyVC_w7",
    "papermill": {
     "duration": 0.095971,
     "end_time": "2021-10-23T21:09:55.689275",
     "exception": false,
     "start_time": "2021-10-23T21:09:55.593304",
     "status": "completed"
    },
    "tags": []
   },
   "source": [
    "As we could see in the categorical visualizations, no graphics show some particular expressive behavior of defaulters. But, looking into numerical visualizations, some data stands out when we are looking into the visualization which shows 'Relationship between Value and Number of Transactions in the Last Year\". It shows that defaulters have a large group that transacts around 80-20 times per year instead of non-defaulters having a pattern of 120-80 times per year. And when looking into the values per year, defaulters have the majority doing around 2500, and some expressive cases around 10000-7500. Instead, non-defaulters have vast data with values around 17500-12500.\n",
    "\n",
    "Moreover, we could also notice other two slight defaulters patterns. When looking into the 'Quantity of products', most defaulters used to contract around 3-1 products, and non-defaulters used to 3-6. Looking at the '12m iterations', most of the defaulters used to interact 3+ times. Instead of non-defaulters majority used to interact 2 times.\n",
    "\n",
    "For those who have come this far, I would like to thank you very much, and if you have any comments, suggestions, etc., please get in touch by my [LinkedIn](https://www.linkedin.com/in/arturpbarbosa/)."
   ]
  }
 ],
 "metadata": {
  "kernelspec": {
   "display_name": "Python 3",
   "language": "python",
   "name": "python3"
  },
  "language_info": {
   "codemirror_mode": {
    "name": "ipython",
    "version": 3
   },
   "file_extension": ".py",
   "mimetype": "text/x-python",
   "name": "python",
   "nbconvert_exporter": "python",
   "pygments_lexer": "ipython3",
   "version": "3.8.10"
  },
  "papermill": {
   "default_parameters": {},
   "duration": 35.927338,
   "end_time": "2021-10-23T21:09:59.206009",
   "environment_variables": {},
   "exception": null,
   "input_path": "__notebook__.ipynb",
   "output_path": "__notebook__.ipynb",
   "parameters": {},
   "start_time": "2021-10-23T21:09:23.278671",
   "version": "2.3.3"
  }
 },
 "nbformat": 4,
 "nbformat_minor": 5
}
